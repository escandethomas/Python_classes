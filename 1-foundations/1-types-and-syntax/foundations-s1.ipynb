{
  "cells": [
    {
      "cell_type": "markdown",
      "metadata": {
        "id": "view-in-github",
        "colab_type": "text"
      },
      "source": [
        "<a href=\"https://colab.research.google.com/github/escandethomas/Python_classes/blob/main/1-foundations/1-types-and-syntax/foundations-s1.ipynb\" target=\"_parent\"><img src=\"https://colab.research.google.com/assets/colab-badge.svg\" alt=\"Open In Colab\"/></a>"
      ]
    },
    {
      "cell_type": "markdown",
      "metadata": {
        "id": "DjE4ro-grt3Q"
      },
      "source": [
        "# DEC Foundations to Python - Session 1\n",
        "# Variable types and Python syntax\n",
        "\n",
        " "
      ]
    },
    {
      "cell_type": "markdown",
      "metadata": {
        "id": "dsQJaHXBrt3S"
      },
      "source": [
        "# S0.0 - Introduction\n",
        "\n",
        "\n",
        "#### The Atoms of Python\n",
        "In this session we will cover the basic building blocks that is what everything in Python is made of. **Think of these building blocks as the atoms of Python**. \n",
        "\n",
        "#### The Molecules of Python\n",
        "These atoms are used to make more advanced variables called objects. **We can think of these objects as molecules**. With these atoms and molecules, we can make everything from databases, machine learning algorithms, natural language projects or whatever you will end up using Python for. \n",
        "\n",
        "This is the same way how atoms and molecules make up everything from stars, life forms, advanced chemical compounds etc. in the world around us. \n",
        "\n",
        "#### This session is about atoms\n",
        "This session will focus on the atoms and how we write code to interact with them. We will also look at some simple molecules, but more on them and advanced life forms in later sessions.\n",
        "\n",
        "---"
      ]
    },
    {
      "cell_type": "markdown",
      "metadata": {
        "id": "H_UnAy7lrt3S"
      },
      "source": [
        "## S1.1 - Google Colab\n",
        "\n",
        "Click this link to open the file you are currently viewing in Google Colab: https://colab.research.google.com/github/worldbank/dec-python-course/blob/main/1-foundations/1-types-and-syntax/foundations-s1.ipynb.\n",
        "\n",
        "This will open an exact copy of this file in Google Colab. Since it is a copy, you can make edits in it without it affecting anyone else file. Through this course we expect you to always open the file for each session in Colab and follow along.\n",
        "\n",
        "### What is Colab?\n",
        "\n",
        "* It's like Google Docs but for Python code\n",
        "* Requires no installing of Python itself or common libraries (add-ons)\n",
        "* Runs on a Google server. Any files you save in Colab are saved in your Google Drive - so a very bad place for sensitive data\n",
        "* Unfortunately, you need to be logged in to a Google account to run code on Google Colab.\n",
        "\n",
        "Most data science projects, use something called _Jupyter Notebooks_ that look and behave very similar to a notebook in Google Colab. But you can install _Jupyter Notebooks_ on your computer so no files, code or data, are saved on a Google server.\n",
        "\n",
        "---\n",
        "\n",
        "### How to run code in Colab\n",
        "\n",
        "Jupyter Notebook and Colab is organized in cells. A cell can either be code or text. The only purpose of text cells is to provide information to a human reader. This information can be a few comments to the code, or a full research paper. You can format this text using [markdown](https://commonmark.org/help).\n",
        "\n",
        "Code cells is where you write your Python code. Next to each code cell there is a play button. You can run the code by either click the 'play' icon or select the cell and hit `SHIFT-ENTER` on your keyboard. \n",
        "\n",
        "Try running the cell below that says `2 + 2`."
      ]
    },
    {
      "cell_type": "code",
      "execution_count": 3,
      "metadata": {
        "id": "DRiJg5lzrt3S",
        "colab": {
          "base_uri": "https://localhost:8080/"
        },
        "outputId": "743eeb3c-5489-4f99-eb8f-d8040854354c"
      },
      "outputs": [
        {
          "output_type": "execute_result",
          "data": {
            "text/plain": [
              "5"
            ]
          },
          "metadata": {},
          "execution_count": 3
        }
      ],
      "source": [
        "2 + 3"
      ]
    },
    {
      "cell_type": "markdown",
      "metadata": {
        "id": "uNC6KMQTrt3T"
      },
      "source": [
        "# S1.0 - Variables\n",
        "\n",
        "Variables is how everything is stored in Python. \n",
        "\n",
        "All variables consist of three things:\n",
        "\n",
        "* The name of the variable so it can be accessed\n",
        "* Some information that the variable contains\n",
        "* The \"*type*\" of the information stored\n",
        "\n",
        "The information a variable points to can be \n",
        "a basic type (such as a single number) or \n",
        "a complex custom type (such as a dataset or a machine learning module).\n",
        "\n",
        "Variables are only stored in temporary memory, \n",
        "so when restarting Python, \n",
        "you need to recreate them by running your code again.\n",
        "\n",
        "(**For Stata users:** In Stata, \n",
        "\"variable\" always means a column in a dataset. \n",
        "Variables in Python behave more like a `local` in Stata.)"
      ]
    },
    {
      "cell_type": "code",
      "execution_count": 4,
      "metadata": {
        "id": "oRNy7uX5rt3T"
      },
      "outputs": [],
      "source": [
        "# Create variables with the name hw and number\n",
        "hw = 'Hello World'\n",
        "number = 42"
      ]
    },
    {
      "cell_type": "code",
      "execution_count": 5,
      "metadata": {
        "id": "rTV2EwMFrt3U",
        "colab": {
          "base_uri": "https://localhost:8080/"
        },
        "outputId": "318bbc64-9c07-4900-9109-f93b9db1316c"
      },
      "outputs": [
        {
          "output_type": "stream",
          "name": "stdout",
          "text": [
            "Hello World\n",
            "42\n"
          ]
        }
      ],
      "source": [
        "# Access the variables with the name hw and number\n",
        "# and then print the information they store\n",
        "print(hw)\n",
        "print(number)"
      ]
    },
    {
      "cell_type": "markdown",
      "metadata": {
        "id": "qx20-vSBrt3U"
      },
      "source": [
        "# S2.0 The basic data types\n",
        "\n",
        "All data and information in Python \n",
        "is made up of a basic type or a combination of basic types.\n",
        "There is no other way to store data in Python\n",
        "other than these basic types.\n",
        "\n",
        "Basic type variables can be combined into \n",
        "advanced data science structures stored in custom variables. \n",
        "No matter how advanced any custom variable \n",
        "you ever encounter in Python is, \n",
        "the fundamental building blocks of the information\n",
        "it stores are always these basic data types.\n",
        "\n",
        "This is similar to how tiny simple atoms in real life\n",
        "can be combined to the most wonderful complex life forms.\n",
        "This is why we will refer to \n",
        "**the basic data types as the _atoms of Python_.**\n",
        "\n",
        "These four basic types are the types you are ever likely to use:\n",
        "\n",
        "| Class name | Full name      | Name used       | Usage                        |\n",
        "|:---        |:---            |:---             | :---                         |\n",
        "| int        | Integer        | \"int\"/\"integer\" | Number without decimal point |\n",
        "| float      | Floating point | \"float\"         | Number with decimal point    |\n",
        "| str        | String         | \"string\"        | Text                         |\n",
        "| bool       | Boolean        | \"boolean\"       | Either true or false         |\n"
      ]
    },
    {
      "cell_type": "markdown",
      "metadata": {
        "id": "gKOul9Mzrt3U"
      },
      "source": [
        "# S2.1 Numeric variables\n",
        "\n",
        "**Define a numeric variable:**"
      ]
    },
    {
      "cell_type": "code",
      "execution_count": 7,
      "metadata": {
        "id": "DmiUEgFXrt3U"
      },
      "outputs": [],
      "source": [
        "# Assign the value 6 to a variable we name x\n",
        "x = 6"
      ]
    },
    {
      "cell_type": "markdown",
      "metadata": {
        "id": "F-LLxx5Grt3V"
      },
      "source": [
        "Now somewhere in memory there is a variable with the name `x` that currently stores the value 6.\n",
        "\n",
        "We can reference this variable until we explicitly delete it or restart our Python session."
      ]
    },
    {
      "cell_type": "code",
      "execution_count": 8,
      "metadata": {
        "id": "XxnTUoGIrt3V",
        "colab": {
          "base_uri": "https://localhost:8080/"
        },
        "outputId": "986db0ec-b669-4671-cd79-808ad0094162"
      },
      "outputs": [
        {
          "output_type": "execute_result",
          "data": {
            "text/plain": [
              "6"
            ]
          },
          "metadata": {},
          "execution_count": 8
        }
      ],
      "source": [
        "# We can output the value by calling it \n",
        "x"
      ]
    },
    {
      "cell_type": "markdown",
      "metadata": {
        "id": "5x2H5BOxrt3V"
      },
      "source": [
        "**Ex. 1a:**"
      ]
    },
    {
      "cell_type": "code",
      "execution_count": 9,
      "metadata": {
        "id": "472-QjRbrt3V"
      },
      "outputs": [],
      "source": [
        "# Create a variable called ex1_x and set it to the value 5\n",
        "\n",
        "### ADD YOUR CODE HERE\n",
        "ex1_x = 5\n",
        "# === Do not modify code below ===\n",
        "assert ex1_x == 5"
      ]
    },
    {
      "cell_type": "markdown",
      "metadata": {
        "id": "IANbP1f1rt3V"
      },
      "source": [
        "**Do math using a variable:**"
      ]
    },
    {
      "cell_type": "code",
      "execution_count": 10,
      "metadata": {
        "id": "X2XvtajXrt3V",
        "colab": {
          "base_uri": "https://localhost:8080/"
        },
        "outputId": "abb94e89-b8de-414c-b523-c049d73bdfae"
      },
      "outputs": [
        {
          "output_type": "execute_result",
          "data": {
            "text/plain": [
              "7"
            ]
          },
          "metadata": {},
          "execution_count": 10
        }
      ],
      "source": [
        "# Take the value in x and output that value plus 1\n",
        "x + 1"
      ]
    },
    {
      "cell_type": "code",
      "execution_count": 11,
      "metadata": {
        "id": "eTl9XjSNrt3V",
        "colab": {
          "base_uri": "https://localhost:8080/"
        },
        "outputId": "919d8500-7d82-48f6-bb0c-7e232722eb58"
      },
      "outputs": [
        {
          "output_type": "execute_result",
          "data": {
            "text/plain": [
              "6"
            ]
          },
          "metadata": {},
          "execution_count": 11
        }
      ],
      "source": [
        "# The value of x is still 6\n",
        "x"
      ]
    },
    {
      "cell_type": "code",
      "execution_count": null,
      "metadata": {
        "id": "1DjxrNaJrt3V"
      },
      "outputs": [],
      "source": [
        "# To update the variable x we need to overwrite it with a new value\n",
        "# Assign x + 1 to x and output it\n",
        "x = x + 1  # NOTE: this OVERWRITES the variable x\n",
        "x"
      ]
    },
    {
      "cell_type": "markdown",
      "metadata": {
        "id": "GOJ57kQsrt3W"
      },
      "source": [
        "Note that we can only output a variable if it is by itself on the last line in a cell. We will soon learn how to _print_ a variable where this is not the case and where we have more options.\n",
        "\n",
        "---\n",
        "**Important error message: NameError**\n",
        "\n",
        "Whenever you see an error where it says \"not defined\", as in `NameError: name 'z' is not defined`, then it means that you have tried to reference a variable `z` but that there is no variable with that name."
      ]
    },
    {
      "cell_type": "code",
      "execution_count": 14,
      "metadata": {
        "id": "bzje-Qmhrt3W",
        "colab": {
          "base_uri": "https://localhost:8080/",
          "height": 171
        },
        "outputId": "e231fb97-0e56-4193-c601-a3ccb868cbf9"
      },
      "outputs": [
        {
          "output_type": "error",
          "ename": "NameError",
          "evalue": "ignored",
          "traceback": [
            "\u001b[0;31m---------------------------------------------------------------------------\u001b[0m",
            "\u001b[0;31mNameError\u001b[0m                                 Traceback (most recent call last)",
            "\u001b[0;32m<ipython-input-14-5a059e049a08>\u001b[0m in \u001b[0;36m<module>\u001b[0;34m\u001b[0m\n\u001b[0;32m----> 1\u001b[0;31m \u001b[0mx\u001b[0m \u001b[0;34m=\u001b[0m \u001b[0mz\u001b[0m \u001b[0;34m+\u001b[0m \u001b[0;36m4\u001b[0m\u001b[0;34m\u001b[0m\u001b[0;34m\u001b[0m\u001b[0m\n\u001b[0m",
            "\u001b[0;31mNameError\u001b[0m: name 'z' is not defined"
          ]
        }
      ],
      "source": [
        "x = z + 4"
      ]
    },
    {
      "cell_type": "markdown",
      "metadata": {
        "id": "bvUu-bBYrt3W"
      },
      "source": [
        "**More math and using multiple variables:**"
      ]
    },
    {
      "cell_type": "code",
      "execution_count": 12,
      "metadata": {
        "id": "mEm179INrt3W"
      },
      "outputs": [],
      "source": [
        "# Reset x to 6\n",
        "x = 6"
      ]
    },
    {
      "cell_type": "code",
      "execution_count": 13,
      "metadata": {
        "id": "fRvmUCtVrt3W"
      },
      "outputs": [],
      "source": [
        "# Define a second variable - this time with a longer name\n",
        "my_long_variable_name = 2"
      ]
    },
    {
      "cell_type": "code",
      "execution_count": 15,
      "metadata": {
        "id": "wIrg_D0irt3W",
        "colab": {
          "base_uri": "https://localhost:8080/"
        },
        "outputId": "c7f33e15-7813-4413-8867-4e85ee36b8c7"
      },
      "outputs": [
        {
          "output_type": "execute_result",
          "data": {
            "text/plain": [
              "8"
            ]
          },
          "metadata": {},
          "execution_count": 15
        }
      ],
      "source": [
        "# Adding two variables together\n",
        "x + my_long_variable_name"
      ]
    },
    {
      "cell_type": "code",
      "execution_count": 16,
      "metadata": {
        "id": "rNOgSG8Rrt3W",
        "colab": {
          "base_uri": "https://localhost:8080/"
        },
        "outputId": "249e9d38-d12d-45fb-95f1-36d11fbd95f4"
      },
      "outputs": [
        {
          "output_type": "execute_result",
          "data": {
            "text/plain": [
              "4"
            ]
          },
          "metadata": {},
          "execution_count": 16
        }
      ],
      "source": [
        "# Subtracting x from my_long_variable_name\n",
        "x - my_long_variable_name"
      ]
    },
    {
      "cell_type": "code",
      "execution_count": 17,
      "metadata": {
        "id": "MWKwJZzert3W",
        "colab": {
          "base_uri": "https://localhost:8080/"
        },
        "outputId": "d98f09eb-7c3b-4a69-83d3-42435be53caa"
      },
      "outputs": [
        {
          "output_type": "execute_result",
          "data": {
            "text/plain": [
              "12"
            ]
          },
          "metadata": {},
          "execution_count": 17
        }
      ],
      "source": [
        "# Multiplying x with my_long_variable_name\n",
        "x * my_long_variable_name"
      ]
    },
    {
      "cell_type": "markdown",
      "metadata": {
        "id": "S3DJcp4Brt3W"
      },
      "source": [
        "Here is a table of the most common mathematical operators:\n",
        "\n",
        "| Symbol | Operation      | Example     |\n",
        "|:---:   |:---            |:---         |\n",
        "| +      | Addition       | 6+2 = 8   |\n",
        "| -      | Subtraction    | 6-2 = 4   |\n",
        "| *      | Multiplication | 6*2 = 12  |\n",
        "| /      | Division       | 6/2 = 3   |\n",
        "| **     | Power of       | 6**2 = 36 |\n",
        "| %      | Modulus        | 6%2 = 0 , 6%4 = 2 |\n",
        "\n",
        "See full lost of mathematical operators here: https://www.w3schools.com/python/python_operators.asp\n",
        "\n",
        "---\n",
        "\n",
        "If we want to save the result of a mathematical operation we need to store it in a variable. Either in a new variable or by overwriting an existing one.\n",
        "\n",
        "Only variables left of the assignment operator `=` are modified. If there is no `=` then no variable is modified from a mathematical operator."
      ]
    },
    {
      "cell_type": "code",
      "execution_count": null,
      "metadata": {
        "id": "mpKLcFHTrt3W"
      },
      "outputs": [],
      "source": [
        "# Create a new variable that is x multiplied by my_long_variable_name\n",
        "y = x * my_long_variable_name\n",
        "\n",
        "# Create a new variable that is the sum of x and my_long_variable_name\n",
        "z = x + my_long_variable_name"
      ]
    },
    {
      "cell_type": "markdown",
      "metadata": {
        "id": "T7w_3Lgwrt3W"
      },
      "source": [
        "If we want to print multiple variables in the same cell we need to use `print()`"
      ]
    },
    {
      "cell_type": "code",
      "execution_count": null,
      "metadata": {
        "id": "vMwdPGfQrt3W"
      },
      "outputs": [],
      "source": [
        "# Print the variables one at the time\n",
        "print(x)\n",
        "print(my_long_variable_name)\n",
        "print(y)\n",
        "print(z)"
      ]
    },
    {
      "cell_type": "code",
      "execution_count": null,
      "metadata": {
        "id": "NRzg1zyYrt3W"
      },
      "outputs": [],
      "source": [
        "# Print all variables at on the same line\n",
        "print(x, my_long_variable_name, y, z)"
      ]
    },
    {
      "cell_type": "code",
      "execution_count": null,
      "metadata": {
        "id": "xOYRV3Dert3W"
      },
      "outputs": [],
      "source": [
        "# You can also print the results of an operation\n",
        "print(12 * 89)\n",
        "print(y - 20)"
      ]
    },
    {
      "cell_type": "code",
      "execution_count": null,
      "metadata": {
        "id": "10PKFQ_Drt3X"
      },
      "outputs": [],
      "source": [
        "# You can combine printing and output\n",
        "print(y - 20)\n",
        "5 ** 3"
      ]
    },
    {
      "cell_type": "markdown",
      "metadata": {
        "id": "H9jUv-VVrt3X"
      },
      "source": [
        "Since incrementing a variable with a value, such as in `x = x + 1`, is such a common action, there is a short hand for it that is `x += 1`"
      ]
    },
    {
      "cell_type": "code",
      "execution_count": null,
      "metadata": {
        "id": "W0S7wZqyrt3X"
      },
      "outputs": [],
      "source": [
        "my_unnecessarily_long_variable_name = 5\n",
        "my_unnecessarily_long_variable_name += 7\n",
        "print(my_unnecessarily_long_variable_name)"
      ]
    },
    {
      "cell_type": "markdown",
      "metadata": {
        "id": "EU77h60Srt3X"
      },
      "source": [
        "**Ex. 2a**"
      ]
    },
    {
      "cell_type": "code",
      "execution_count": 23,
      "metadata": {
        "id": "6juLq6b1rt3X"
      },
      "outputs": [],
      "source": [
        "# Create two variables ex2_x and ex2_y. Set ex2_x to 3 and ex2_y to 5.\n",
        "ex2_x = 3\n",
        "ex2_y = 5\n",
        "### ADD YOUR CODE HERE\n",
        "\n",
        "# === Do not modify code below ===\n",
        "assert ex2_x == 3 and ex2_y == 5"
      ]
    },
    {
      "cell_type": "markdown",
      "metadata": {
        "id": "7qKXZcQJrt3X"
      },
      "source": [
        "**Ex. 2b**"
      ]
    },
    {
      "cell_type": "code",
      "execution_count": 24,
      "metadata": {
        "id": "z3E602VKrt3X"
      },
      "outputs": [],
      "source": [
        "# Multiply ex2_x with ex2_y and save the result in a new variable ex2_z\n",
        "ex2_z = ex2_x * ex2_y\n",
        "### ADD YOUR CODE HERE\n",
        "\n",
        "# === Do not modify code below ===\n",
        "assert ex2_z == 15"
      ]
    },
    {
      "cell_type": "markdown",
      "metadata": {
        "id": "zYW5EcYert3X"
      },
      "source": [
        "**Ex. 2c**"
      ]
    },
    {
      "cell_type": "code",
      "execution_count": 25,
      "metadata": {
        "id": "sAHvzbxhrt3X"
      },
      "outputs": [],
      "source": [
        "# Update the variable ex2_z by subtracting ex2_x from it\n",
        "# (Hint: re-run the cells above if/when needed)\n",
        "ex2_z = ex2_z - ex2_x\n",
        "### ADD YOUR CODE HERE\n",
        "\n",
        "# === Do not modify code below ===\n",
        "assert ex2_z == 12"
      ]
    },
    {
      "cell_type": "markdown",
      "metadata": {
        "id": "0J6uStIirt3X"
      },
      "source": [
        "## S2.2 Two basic types of numeric variables\n",
        "\n",
        "There are two types of numeric basic data types:\n",
        "\n",
        "| Class name | Full name      | Name used       | Usage                        |\n",
        "|:---        |:---            |:---             | :---                         |\n",
        "| int        | Integer        | \"int\"/\"integer\" | Number without decimal point |\n",
        "| float      | Floating point | \"float\"         | Number with decimal point    |\n",
        "\n",
        "\n",
        "`int` is more memory efficient but cannot store decimal points. \n",
        "Python will pick `int` for you \n",
        "unless your variable must be a `float` to store your data without information loss.\n",
        "\n",
        "Read more about `int` and `float` here: https://www.w3schools.com/python/python_numbers.asp\n",
        "\n",
        "---\n",
        "\n",
        "You can test which type your numeric variable using `type()`"
      ]
    },
    {
      "cell_type": "code",
      "execution_count": 18,
      "metadata": {
        "id": "BVxOy5-Srt3X",
        "colab": {
          "base_uri": "https://localhost:8080/"
        },
        "outputId": "40a21f75-0d85-47f1-aad5-a571d76171e2"
      },
      "outputs": [
        {
          "output_type": "stream",
          "name": "stdout",
          "text": [
            "<class 'int'>\n"
          ]
        },
        {
          "output_type": "execute_result",
          "data": {
            "text/plain": [
              "int"
            ]
          },
          "metadata": {},
          "execution_count": 18
        }
      ],
      "source": [
        "# Numeric variables assigned a number WITHOUT decimal point are created as an int\n",
        "x = 3\n",
        "print(type(x))\n",
        "type(x)"
      ]
    },
    {
      "cell_type": "code",
      "execution_count": 19,
      "metadata": {
        "id": "oj1Jh6MGrt3X",
        "colab": {
          "base_uri": "https://localhost:8080/"
        },
        "outputId": "de63fb78-c528-4d03-aec2-a060e29a3650"
      },
      "outputs": [
        {
          "output_type": "stream",
          "name": "stdout",
          "text": [
            "<class 'float'>\n"
          ]
        }
      ],
      "source": [
        "# Numeric variables assigned a number WITH decimal points are created as a float\n",
        "pi = 3.141592\n",
        "print(type(pi))"
      ]
    },
    {
      "cell_type": "code",
      "execution_count": 20,
      "metadata": {
        "id": "Yw131fDsrt3X",
        "colab": {
          "base_uri": "https://localhost:8080/"
        },
        "outputId": "5f4b9918-8595-4116-fee1-d0edb00ced11"
      },
      "outputs": [
        {
          "output_type": "stream",
          "name": "stdout",
          "text": [
            "10 <class 'int'>\n",
            "5.0 <class 'float'>\n"
          ]
        }
      ],
      "source": [
        "# Python will automatically change the type if ever needed\n",
        "diameter = 10\n",
        "print(diameter, type(diameter))\n",
        "\n",
        "#The result of division is always a float\n",
        "radius = diameter / 2\n",
        "print(radius, type(radius))"
      ]
    },
    {
      "cell_type": "code",
      "execution_count": 21,
      "metadata": {
        "id": "v7mU0bb2rt3X",
        "colab": {
          "base_uri": "https://localhost:8080/"
        },
        "outputId": "266201f5-a47b-414e-f70f-ca9bacb2afc1"
      },
      "outputs": [
        {
          "output_type": "stream",
          "name": "stdout",
          "text": [
            "5 <class 'int'>\n",
            "15.70796 <class 'float'>\n"
          ]
        }
      ],
      "source": [
        "#The result of an operation with float and an int is always a float\n",
        "radius = 5\n",
        "circumference = pi * (radius)\n",
        "print(radius, type(radius))\n",
        "print(circumference, type(circumference))"
      ]
    },
    {
      "cell_type": "code",
      "execution_count": 22,
      "metadata": {
        "id": "O5vP3Hkzrt3X",
        "colab": {
          "base_uri": "https://localhost:8080/"
        },
        "outputId": "b8b85340-d355-4869-a396-11b52ea2312d"
      },
      "outputs": [
        {
          "output_type": "stream",
          "name": "stdout",
          "text": [
            "7 <class 'int'>\n"
          ]
        }
      ],
      "source": [
        "# you can force a float to be an int - it rounds down the closest int\n",
        "# NOTE: This leads to information loss about the decimal points\n",
        "y = int(7.25)\n",
        "print(y, type(y))"
      ]
    },
    {
      "cell_type": "markdown",
      "metadata": {
        "id": "5epfdwSart3X"
      },
      "source": [
        "**Ex. 3a**"
      ]
    },
    {
      "cell_type": "code",
      "execution_count": 26,
      "metadata": {
        "id": "0cLHB5ewrt3X"
      },
      "outputs": [],
      "source": [
        "# Create a variable ex3_x that is a 13 to the power of 12\n",
        "ex3_x = 13 ** 12\n",
        "### ADD YOUR CODE HERE\n",
        "\n",
        "# === Do not modify code below ===\n",
        "assert ex3_x == 23298085122481"
      ]
    },
    {
      "cell_type": "markdown",
      "metadata": {
        "id": "LyCy3kNIrt3Y"
      },
      "source": [
        "**Ex. 3b**"
      ]
    },
    {
      "cell_type": "code",
      "execution_count": 27,
      "metadata": {
        "id": "_T15Nfs_rt3Y"
      },
      "outputs": [],
      "source": [
        "# Create a variable ex3_y that is \n",
        "# the remainder when dividing ex3_x with 17\n",
        "ex3_y = ex3_x % 17\n",
        "### ADD YOUR CODE HERE\n",
        "\n",
        "# === Do not modify code below ===\n",
        "assert ex3_y == 1"
      ]
    },
    {
      "cell_type": "markdown",
      "metadata": {
        "id": "yDoY71d6rt3Y"
      },
      "source": [
        "**Ex. 3c**"
      ]
    },
    {
      "cell_type": "code",
      "execution_count": 28,
      "metadata": {
        "id": "XQEZ__4Mrt3Y"
      },
      "outputs": [],
      "source": [
        "# Create a variable ex3_z that is a float with the value three\n",
        "# (The solution has not been mentioned explicitly)\n",
        "ex3_z = 3.0\n",
        "### ADD YOUR CODE HERE\n",
        "\n",
        "# === Do not modify code below ===\n",
        "assert hash(ex3_z) == 3 and type(ex3_z) is float"
      ]
    },
    {
      "cell_type": "markdown",
      "metadata": {
        "id": "tA0YSxZ4rt3Y"
      },
      "source": [
        "# S3.0 Text variables - basic type: string\n",
        "\n"
      ]
    },
    {
      "cell_type": "markdown",
      "metadata": {
        "id": "9PoULaxkrt3Y"
      },
      "source": [
        "There is only one basic data type for text, and it is called \"string\".\n",
        "\n",
        "| Class name | Full name      | Name used       | Usage                        |\n",
        "|:---        |:---            |:---             | :---                         |\n",
        "| str        | String         | \"string\"        | Text                         |\n",
        "\n",
        "The text in a string could be anything from a single letter or word, to a full-length text like an essay. \n",
        "\n",
        "---\n",
        "\n",
        "**Define a string variable**"
      ]
    },
    {
      "cell_type": "code",
      "execution_count": null,
      "metadata": {
        "id": "d-DJ2Vq_rt3Y"
      },
      "outputs": [],
      "source": [
        "# Assign the text Hello World! to both variable a and b\n",
        "\n",
        "# We can use either \" or ' to tell where the text starts and ends so python does not confuse it for code\n",
        "a = \"Hello world!\"\n",
        "b = 'Hello world!'\n",
        "\n",
        "print(a, type(a))\n",
        "print(b, type(b))"
      ]
    },
    {
      "cell_type": "markdown",
      "metadata": {
        "id": "350j4hU7rt3Y"
      },
      "source": [
        "We must use either `\"\"` or `''` for each string, we cannot mix. It only rarely matters which one we use."
      ]
    },
    {
      "cell_type": "code",
      "execution_count": null,
      "metadata": {
        "id": "0DoM7A2lrt3Y"
      },
      "outputs": [],
      "source": [
        "# We can use either \"\" when the text includes one or several '\n",
        "a = \"Strings are Python's way to store text\"\n",
        "\n",
        "# We can use either '' when the text includes one or several \"\n",
        "b = 'Python is the \"bestest\" programming language'\n",
        "\n",
        "print(a, type(a))\n",
        "print(b, type(b))"
      ]
    },
    {
      "cell_type": "markdown",
      "metadata": {
        "id": "zo-KVm5Grt3Y"
      },
      "source": [
        "**Simple string operations:**\n",
        "\n",
        "Some math operators work on strings as well"
      ]
    },
    {
      "cell_type": "code",
      "execution_count": null,
      "metadata": {
        "id": "A5yturZYrt3Y"
      },
      "outputs": [],
      "source": [
        "a = 'hello'\n",
        "b = 'world'\n",
        "\n",
        "# Addition and multiplication work on strings (but not subtraction and division)\n",
        "c = a + ' ' + b + '!'\n",
        "d = a * 3\n",
        "\n",
        "print(c, type(c))\n",
        "print(d, type(d))"
      ]
    },
    {
      "cell_type": "code",
      "execution_count": null,
      "metadata": {
        "id": "DpuDlj_7rt3Y"
      },
      "outputs": [],
      "source": [
        "# Now when we know strings, we can add a string \n",
        "# to the print function to \n",
        "# keep track of what we are printing\n",
        "print('Variable c:', c, type(c))\n",
        "print('Variable d:', d, type(d))\n",
        "c\n",
        "d"
      ]
    },
    {
      "cell_type": "markdown",
      "metadata": {
        "id": "xkmKNYr2rt3Y"
      },
      "source": [
        "**Ex. 4a**"
      ]
    },
    {
      "cell_type": "code",
      "execution_count": 38,
      "metadata": {
        "id": "IBsDhuotrt3Y"
      },
      "outputs": [],
      "source": [
        "# Create a variable ex4_x that is a string with the word World\n",
        "# and a variable ex4_y that is a string with the word Bank\n",
        "\n",
        "### ADD YOUR CODE HERE\n",
        "ex4_x = \"World\"\n",
        "ex4_y = \"Bank\"\n",
        "# === Do not modify code below ===\n",
        "assert ex4_x == 'World' and ex4_y == 'Bank'"
      ]
    },
    {
      "cell_type": "markdown",
      "metadata": {
        "id": "S4DhVbPwrt3Y"
      },
      "source": [
        "**Ex. 4b**"
      ]
    },
    {
      "cell_type": "code",
      "execution_count": 39,
      "metadata": {
        "id": "ycbC4IwDrt3Y"
      },
      "outputs": [],
      "source": [
        "# Create a variable ex4_z that use ex4_x and ex4_y \n",
        "# to create the word World Bank\n",
        "\n",
        "### ADD YOUR CODE HERE\n",
        "ex4_z = ex4_x + \" \" + ex4_y\n",
        "# === Do not modify code below ===\n",
        "assert ex4_z == 'World Bank'"
      ]
    },
    {
      "cell_type": "markdown",
      "metadata": {
        "id": "SqHjJP-Wrt3Y"
      },
      "source": [
        "**String methods:**\n",
        "\n",
        "So far, we have only worked with the operators such as `+`, `-` etc. \n",
        "\n",
        "Strings has some actions specific to the `str` data type. Actions specific to a data type are called _methods_. \n",
        "\n",
        "Almost all Python custom variable types (molecules) have methods. But among the basic types (atoms), strings are the only one with methods.\n",
        "\n",
        "You can read about all string methods here: https://www.w3schools.com/python/python_ref_string.asp"
      ]
    },
    {
      "cell_type": "code",
      "execution_count": 29,
      "metadata": {
        "id": "2vHqEqQirt3Y",
        "colab": {
          "base_uri": "https://localhost:8080/"
        },
        "outputId": "dec4a017-1df1-450f-8c20-66bb74f286f6"
      },
      "outputs": [
        {
          "output_type": "stream",
          "name": "stdout",
          "text": [
            "Hello world! <class 'str'>\n"
          ]
        }
      ],
      "source": [
        "# Define a new string\n",
        "a = 'Hello world!'\n",
        "print(a, type(a))"
      ]
    },
    {
      "cell_type": "code",
      "execution_count": 30,
      "metadata": {
        "id": "CsF00Q4Rrt3Y",
        "colab": {
          "base_uri": "https://localhost:8080/"
        },
        "outputId": "db123665-e8a1-4cec-e696-4979e00b6078"
      },
      "outputs": [
        {
          "output_type": "stream",
          "name": "stdout",
          "text": [
            "HELLO WORLD!\n"
          ]
        }
      ],
      "source": [
        "# Print the result of the method directly\n",
        "print(a.upper())"
      ]
    },
    {
      "cell_type": "code",
      "execution_count": 31,
      "metadata": {
        "id": "OU9bVsYsrt3Z",
        "colab": {
          "base_uri": "https://localhost:8080/"
        },
        "outputId": "01f47d21-3f28-4238-dc48-093959361fb8"
      },
      "outputs": [
        {
          "output_type": "stream",
          "name": "stdout",
          "text": [
            "HELLO WORLD! <class 'str'>\n"
          ]
        }
      ],
      "source": [
        "# Store the results of upper() in new variable and then print\n",
        "a_upper = a.upper()\n",
        "print(a_upper,type(a_upper))"
      ]
    },
    {
      "cell_type": "code",
      "execution_count": 32,
      "metadata": {
        "id": "KRVndIKWrt3Z",
        "colab": {
          "base_uri": "https://localhost:8080/"
        },
        "outputId": "27db3cf9-5805-4b6d-ca0f-8183d0ec1798"
      },
      "outputs": [
        {
          "output_type": "stream",
          "name": "stdout",
          "text": [
            "hello world! <class 'str'>\n"
          ]
        }
      ],
      "source": [
        "# Store the results of lower() in new variable and then print\n",
        "a_lower = a.lower()\n",
        "print(a_lower,type(a_lower))"
      ]
    },
    {
      "cell_type": "code",
      "execution_count": 33,
      "metadata": {
        "id": "g_dfweJart3Z",
        "colab": {
          "base_uri": "https://localhost:8080/"
        },
        "outputId": "30166c60-5c24-4cd8-b130-5bc6efb55d16"
      },
      "outputs": [
        {
          "output_type": "stream",
          "name": "stdout",
          "text": [
            "a_all_i: Helli wirld! <class 'str'>\n",
            "a_one_i: Helli world! <class 'str'>\n"
          ]
        }
      ],
      "source": [
        "# Relace letters in a string\n",
        "a_all_i = a.replace('o', 'i')\n",
        "a_one_i = a.replace('o', 'i', 1)\n",
        "\n",
        "print('a_all_i:',a_all_i,type(a_all_i))\n",
        "print('a_one_i:',a_one_i,type(a_one_i))"
      ]
    },
    {
      "cell_type": "markdown",
      "metadata": {
        "id": "k5F_pPg7rt3Z"
      },
      "source": [
        "It is common that we need to combine a string with the content of one or several variables to output a sentence. It is always possible to do so using string concatenation using `+`.\n",
        "\n",
        "However, when generating a string that is a sentence where only a few words are dynamically populated using data in variables, using the method `.format()` is often simpler."
      ]
    },
    {
      "cell_type": "code",
      "execution_count": 34,
      "metadata": {
        "id": "QBW3JW1xrt3Z"
      },
      "outputs": [],
      "source": [
        "name = \"Frodo Baggins\"\n",
        "age = 51"
      ]
    },
    {
      "cell_type": "code",
      "execution_count": 35,
      "metadata": {
        "id": "u5mWv8bOrt3Z",
        "colab": {
          "base_uri": "https://localhost:8080/"
        },
        "outputId": "2d7a5d52-563c-4653-c6df-c95e45beb25d"
      },
      "outputs": [
        {
          "output_type": "stream",
          "name": "stdout",
          "text": [
            "His name is Frodo Baggins and his age is 51.\n"
          ]
        }
      ],
      "source": [
        "str_concat = \"His name is \" + name + \" and his age is \" + str(age) + \".\"\n",
        "print(str_concat)"
      ]
    },
    {
      "cell_type": "code",
      "execution_count": 36,
      "metadata": {
        "id": "_yRUWt6Xrt3Z",
        "colab": {
          "base_uri": "https://localhost:8080/"
        },
        "outputId": "95849d5a-aaaa-4aac-987f-3345c30449a8"
      },
      "outputs": [
        {
          "output_type": "stream",
          "name": "stdout",
          "text": [
            "His name is Frodo Baggins and his age is 51.\n"
          ]
        }
      ],
      "source": [
        "str_format = \"His name is {} and his age is {}.\".format(name,age)\n",
        "print(str_format)"
      ]
    },
    {
      "cell_type": "code",
      "execution_count": 37,
      "metadata": {
        "id": "xTR-PuKyrt3Z",
        "colab": {
          "base_uri": "https://localhost:8080/"
        },
        "outputId": "71133eaa-a724-4730-c844-0b4810543e9f"
      },
      "outputs": [
        {
          "output_type": "stream",
          "name": "stdout",
          "text": [
            "Frodo Baggins\n",
            "13\n"
          ]
        }
      ],
      "source": [
        "# The function len() can be used to get the length of a string\n",
        "print(name)\n",
        "print(len(name))"
      ]
    },
    {
      "cell_type": "markdown",
      "metadata": {
        "id": "H0VOzSQZrt3Z"
      },
      "source": [
        "**Important error message: AttributeError**\n",
        "\n",
        "Whenever you see an error where it says \"has no attribute\", as in `AttributeError: 'int' object has no attribute 'upper'`, then it means that the type `int` does not have a method or attribute called `upper`. \n",
        "\n",
        "Attribute is something similar to a method but attributes only return some meta data about a variable, and is not able to change the data in the variable.\n",
        "\n",
        "If you get an AttributeError, test if you have misspelled the method/attribute or if the variable is of a different type than you expected. Below we get this error as we are using a `str` method on an `int` type variable."
      ]
    },
    {
      "cell_type": "code",
      "execution_count": null,
      "metadata": {
        "id": "pWOdl5SKrt3Z"
      },
      "outputs": [],
      "source": [
        "x = 4\n",
        "x = x.upper()"
      ]
    },
    {
      "cell_type": "markdown",
      "metadata": {
        "id": "vEdeacG-rt3Z"
      },
      "source": [
        "**Ex. 5a**"
      ]
    },
    {
      "cell_type": "code",
      "execution_count": 40,
      "metadata": {
        "scrolled": true,
        "id": "p2Lks-bMrt3Z"
      },
      "outputs": [],
      "source": [
        "# Use a string method on the variable p already provided,\n",
        "# to create a variable ex5_x with the string \"PYTHON\"\n",
        "\n",
        "p = 'Python'\n",
        "ex5_x = p.upper()\n",
        "### ADD YOUR CODE HERE\n",
        "\n",
        "# === Do not modify code below ===\n",
        "assert ex5_x == 'PYTHON'"
      ]
    },
    {
      "cell_type": "markdown",
      "metadata": {
        "id": "s2TZmTW2rt3Z"
      },
      "source": [
        "**Ex. 5b**"
      ]
    },
    {
      "cell_type": "code",
      "source": [
        "#To see all available functions on strings,\n",
        "dir(str)\n",
        "# How to find help menu\n",
        "str.upper?"
      ],
      "metadata": {
        "id": "xZfA7PVrCn5A"
      },
      "execution_count": 46,
      "outputs": []
    },
    {
      "cell_type": "code",
      "execution_count": 44,
      "metadata": {
        "id": "EtrVGdFnrt3Z",
        "colab": {
          "base_uri": "https://localhost:8080/"
        },
        "outputId": "dbab99c6-639b-4960-eb18-42f8171ac704"
      },
      "outputs": [
        {
          "output_type": "stream",
          "name": "stdout",
          "text": [
            "Object `upper` not found.\n"
          ]
        }
      ],
      "source": [
        "# Use a string method on ex5_x to create\n",
        "# a variable ex5_y that is the string Python\n",
        "# (The solution has not been mentioned explicitly)\n",
        "# in this session. Hint: use the link above)\n",
        "\n",
        "\n",
        "\n",
        "### ADD YOUR CODE HERE\n",
        "ex5_y = ex5_x.lower().capitalize()\n",
        "# === Do not modify code below ===\n",
        "assert ex5_y == 'Python'\n"
      ]
    },
    {
      "cell_type": "markdown",
      "metadata": {
        "id": "x-zdxqIGrt3a"
      },
      "source": [
        "# S4.0 True/False variables - basic type: boolean\n",
        "\n",
        "| Class name | Full name      | Name used       | Usage                        |\n",
        "|:---        |:---            |:---             | :---                         |\n",
        "| bool       | Boolean        | \"boolean\"       | Either true or false         |\n",
        "\n",
        "Boolean is the last basic type we will cover. Session 2 will discuss common usages of them. This session only covers how to identify them as you will see them often in Python.\n",
        "\n",
        "---\n",
        "\n",
        "**String methods returning booleans:**\n",
        "\n",
        "So far we have only used string methods that have returned new strings. `upper()`, `lower()`, `replace()` etc. Many methods returns booleans instead."
      ]
    },
    {
      "cell_type": "code",
      "execution_count": 47,
      "metadata": {
        "id": "ywuA9QrQrt3a",
        "colab": {
          "base_uri": "https://localhost:8080/"
        },
        "outputId": "880d96ff-b037-4d7e-f9bd-f4a60678d2a0"
      },
      "outputs": [
        {
          "output_type": "stream",
          "name": "stdout",
          "text": [
            "Variable a: 3 <class 'str'>\n",
            "Variable b: cat <class 'str'>\n"
          ]
        }
      ],
      "source": [
        "# Store the digit 3 as a string, and the word cat as a string\n",
        "a = '3'\n",
        "b = 'cat'\n",
        "\n",
        "# Print the initial variables\n",
        "print('Variable a:', a, type(a))\n",
        "print('Variable b:', b, type(b))"
      ]
    },
    {
      "cell_type": "code",
      "execution_count": 48,
      "metadata": {
        "id": "GXPnZhI7rt3a",
        "colab": {
          "base_uri": "https://localhost:8080/"
        },
        "outputId": "0ff7fc9a-1b80-4288-9352-d1491d711b6b"
      },
      "outputs": [
        {
          "output_type": "stream",
          "name": "stdout",
          "text": [
            "Variable a: 3 <class 'str'> - Is numeric: True <class 'bool'>\n",
            "Variable b: cat <class 'str'> - Is numeric: False <class 'bool'>\n"
          ]
        }
      ],
      "source": [
        "# Test if the string is a string of a number\n",
        "a_bool = a.isnumeric()\n",
        "b_bool = b.isnumeric()\n",
        "\n",
        "# Print the strings and the result if it a string of a number\n",
        "print('Variable a:', a, type(a), '- Is numeric:', a_bool, type(a_bool))\n",
        "print('Variable b:', b, type(b), '- Is numeric:', b_bool, type(b_bool))"
      ]
    },
    {
      "cell_type": "markdown",
      "metadata": {
        "id": "aWP-lBHert3a"
      },
      "source": [
        "**Functions returning booleans:**\n",
        "\n",
        "What are functions? We have already used functions but we have not explained what they are. `print()` and `type()` are examples of functions.\n",
        "\n",
        "Functions and methods are similar. The main difference is that a method is always specific to a type, while functions exist independently. \n",
        "\n",
        "For example, `.upper()` is specific to `str`, but we have used `print()` with `str`, `int`, `float` etc.\n",
        "\n",
        "Read more about the built in functions in python here: https://www.w3schools.com/python/python_ref_functions.asp"
      ]
    },
    {
      "cell_type": "code",
      "execution_count": null,
      "metadata": {
        "id": "ei8b1jJ8rt3a"
      },
      "outputs": [],
      "source": [
        "# Define a string and an int\n",
        "a_str = 'three'\n",
        "a_int = 3\n",
        "\n",
        "# Print variables and the result the variable is an int or not\n",
        "a_str_is_int = isinstance(a_str, int)\n",
        "print('Variable a_str_is_int:', a_str_is_int, type(a_str_is_int))\n",
        "\n",
        "print('a_str ({}) is an int: {}'.format(a_str,a_str_is_int))\n",
        "print('a_int ({}) is an int: {}'.format(a_int,isinstance(a_int, int)))"
      ]
    },
    {
      "cell_type": "markdown",
      "metadata": {
        "id": "whqCtNKlrt3a"
      },
      "source": [
        "**Defining your own booleans:**\n",
        "\n",
        "You can define your own boolean in two ways:\n",
        "\n",
        "* setting a variable to `True` or `False`\n",
        "* setting a variable to the result of a logical expression. "
      ]
    },
    {
      "cell_type": "code",
      "execution_count": null,
      "metadata": {
        "id": "d6WHEL4xrt3a"
      },
      "outputs": [],
      "source": [
        "my_true_boolean = True\n",
        "my_false_boolean = False\n",
        "\n",
        "print('Variable my_true_boolean:', my_true_boolean, type(my_true_boolean))\n",
        "print('Variable my_false_boolean:', my_false_boolean, type(my_false_boolean))"
      ]
    },
    {
      "cell_type": "markdown",
      "metadata": {
        "id": "AeHewr_Yrt3a"
      },
      "source": [
        "Logical expressions are a type of operators that evaluates to true or false. The logical operators are `and`, `or` and `not` operators.\n",
        "\n",
        "* The operator `and` returns `True` if BOTH sides of the operator is `True`\n",
        "* The operator `or` returns `True` if ANY sides of the operator is `True`\n",
        "* The operator `not` returns `True` if what comes after the operator is `False`\n",
        "\n",
        "In all cases when these operators do not return `True`, they always return `False`"
      ]
    },
    {
      "cell_type": "code",
      "execution_count": null,
      "metadata": {
        "id": "HraMXoXCrt3a"
      },
      "outputs": [],
      "source": [
        "and_operator = my_true_boolean and my_false_boolean\n",
        "or_operator = my_true_boolean or my_false_boolean\n",
        "not_operator = not my_false_boolean"
      ]
    },
    {
      "cell_type": "code",
      "execution_count": null,
      "metadata": {
        "id": "4hK3y0ODrt3a"
      },
      "outputs": [],
      "source": [
        "print('Variable and_operator:', and_operator, type(and_operator))\n",
        "print('Variable or_operator:', or_operator, type(or_operator))\n",
        "print('Variable not_operator:', not_operator, type(not_operator))"
      ]
    },
    {
      "cell_type": "markdown",
      "metadata": {
        "id": "8hWNO-0Drt3a"
      },
      "source": [
        "Comparison operators are another type of operators that evaluate to true or false. More on these operators in session 2, but examples are `==`, `!=`, `>` or `<`.\n",
        "\n",
        "* The operator `==` returns `True` if the value of both sides of the operator is the same\n",
        "* The operator `!=` returns `True` if the value of both sides of the operator is _not_ the same\n",
        "* The operator `>` returns `True` if the value to the left has a higher sort order\n",
        "* The operator `<` returns `True` if the value to the left has a smaller sort order"
      ]
    },
    {
      "cell_type": "code",
      "execution_count": null,
      "metadata": {
        "id": "oUfU5ryfrt3a"
      },
      "outputs": [],
      "source": [
        "num_equal = 2 == 2\n",
        "num_not_equal = 2 + 2 != 5\n",
        "print('Variable num_equal:', num_equal, type(num_equal))\n",
        "print('Variable num_not_equal:', num_not_equal, type(num_not_equal))"
      ]
    },
    {
      "cell_type": "code",
      "execution_count": 49,
      "metadata": {
        "id": "70uN1jVRrt3a",
        "colab": {
          "base_uri": "https://localhost:8080/"
        },
        "outputId": "37db4233-382a-4b30-eb0a-3e6e988e77a5"
      },
      "outputs": [
        {
          "output_type": "stream",
          "name": "stdout",
          "text": [
            "Variable str_equal: False <class 'bool'>\n",
            "Variable str_not_equal: True <class 'bool'>\n"
          ]
        }
      ],
      "source": [
        "str_equal = \"A\" == \"B\"\n",
        "str_not_equal = \"IBRD\" != \"IFC\"\n",
        "print('Variable str_equal:', str_equal, type(str_equal))\n",
        "print('Variable str_not_equal:', str_not_equal, type(str_not_equal))"
      ]
    },
    {
      "cell_type": "code",
      "execution_count": 50,
      "metadata": {
        "id": "Fo0eZBT1rt3a",
        "colab": {
          "base_uri": "https://localhost:8080/"
        },
        "outputId": "1cc72b7d-d8a7-4f1e-a9a5-5ed47a701d32"
      },
      "outputs": [
        {
          "output_type": "stream",
          "name": "stdout",
          "text": [
            "Variable num_compare: True <class 'bool'>\n",
            "Variable str_compare: False <class 'bool'>\n"
          ]
        }
      ],
      "source": [
        "num_compare = -3 < 2\n",
        "str_compare = \"meter\" > \"mile\"\n",
        "print('Variable num_compare:', num_compare, type(num_compare))\n",
        "print('Variable str_compare:', str_compare, type(str_compare))"
      ]
    },
    {
      "cell_type": "markdown",
      "metadata": {
        "id": "fg22cz_Hrt3a"
      },
      "source": [
        "**Ex. 6a**"
      ]
    },
    {
      "cell_type": "code",
      "execution_count": 51,
      "metadata": {
        "id": "54lW7Iy0rt3a"
      },
      "outputs": [],
      "source": [
        "# Set ex6_x to True or False such that it is the same as variable a\n",
        "\n",
        "t = True\n",
        "f = False\n",
        "\n",
        "a = t or f\n",
        "\n",
        " ### ADD YOUR CODE HERE\n",
        "ex6_x = True\n",
        "# === Do not modify code below ===\n",
        "assert ex6_x == a"
      ]
    },
    {
      "cell_type": "markdown",
      "metadata": {
        "id": "JtBhDx_krt3b"
      },
      "source": [
        "**Ex. 6b**"
      ]
    },
    {
      "cell_type": "code",
      "execution_count": 52,
      "metadata": {
        "id": "7rOcp0IDrt3b"
      },
      "outputs": [],
      "source": [
        "# Set ex6_y to True or False such that it is the same as variable b\n",
        "# (Use the print function to print intermediate steps if needed)\n",
        "\n",
        "t = True\n",
        "f = False\n",
        "\n",
        "b = t or f\n",
        "b = b and f\n",
        "b = b or f\n",
        "b = b and t\n",
        "\n",
        " ### ADD YOUR CODE HERE\n",
        "ex6_y = False\n",
        "# === Do not modify code below ===\n",
        "assert ex6_y == b"
      ]
    },
    {
      "cell_type": "markdown",
      "metadata": {
        "id": "zmQD9Ad7rt3b"
      },
      "source": [
        "## Basic data types summary\n",
        "\n",
        "* The only way to store data in Python\n",
        "* Stored in a variable with a name and type\n",
        "* Which operations (`+`, `-`, ect.) or methods (`.upper()`) you can use depends on the type\n",
        "\n",
        "**Important errors**\n",
        "\n",
        "| Error name         | Likely reason for the error | \n",
        "|:---                |:---                     |\n",
        "| **NameError**      | You have a typo when referencing a variable or you try to reference a variable before it is created | \n",
        "| **AttributeError** | You have used a method or an attribute on a type where that method or attributed does not exist | \n",
        "\n"
      ]
    },
    {
      "cell_type": "markdown",
      "metadata": {
        "id": "055IXDVmrt3b"
      },
      "source": [
        "# S5.0 - Container types\n",
        "\n",
        "So far we have only covered the atoms of Python.\n",
        "We have not yet introduced how you \n",
        "combine the atoms into more useful molecules.\n",
        "\n",
        "The basic data types `int`, `float`, `str` and `bool` can be combined in **the basic container types**.\n",
        "\n",
        "| Class name | Full name  | Access                      | Occurrence  | Remarks |\n",
        "|:---        |:---        | :---                        | :---        | :---\n",
        "| list       | List       | Access items by order       | Common      | Since we access items by order, the order you add items to a list is important |\n",
        "| dict       | Dictionary | Access items by key         | Common      | Since we access items by key names, the order is not important |\n",
        "| tuple      | Tuple      | Access items by order       | Less common | Very similar to a list, but when created it cannot be modified |\n",
        "| set        | Set        | Test if item already in set | Rare        | A container that cannot hold duplicates |\n",
        "\n",
        "Containers can hold basic data types (atoms) variables\n",
        "as well as other containers variables. \n",
        "You can mix data types and container types if neeed.\n",
        "Complex variables in Python are created by \n",
        "nesting many layers of container variables.\n",
        "\n",
        "`list`s and `dict`s - \n",
        "we will cover lists and dictionaries properly \n",
        "as you will create and use them a lot. \n",
        "\n",
        "`tuples`s and `set`s - \n",
        "Tuples are often returned from functions and methods\n",
        "so we will cover how to use them. \n",
        "We will only briefly cover sets.\n"
      ]
    },
    {
      "cell_type": "markdown",
      "metadata": {
        "id": "cais7dJ2rt3b"
      },
      "source": [
        "## S5.1 Container types - Lists\n",
        "\n",
        "| Class name | Full name  | Access                      | Occurrence  | Remarks |\n",
        "|:---        |:---        | :---                        | :---        | :---\n",
        "| list       | List       | Access items by order       | Common      | Since we access items by order, the order you add items to a list is important |\n",
        "\n",
        "We can add variables to a list \n",
        "at the time of creating the list \n",
        "or we can add variables later. \n",
        "\n",
        "We access an item in the list by its order.\n",
        "For example, the 3rd item, 7th item etc. \n",
        "\n",
        "However, items are accessed by index, \n",
        "and in computer science index starts on 0 and not 1. \n",
        "So the item with index 1 is actually the second item in the list. \n",
        "\n",
        "---\n",
        "\n",
        "**Create a list:**"
      ]
    },
    {
      "cell_type": "code",
      "execution_count": 53,
      "metadata": {
        "id": "6yG55Re2rt3b",
        "colab": {
          "base_uri": "https://localhost:8080/"
        },
        "outputId": "4441df31-c19b-4950-99d1-f6acbd841218"
      },
      "outputs": [
        {
          "output_type": "stream",
          "name": "stdout",
          "text": [
            "[0, 1, 2, 3, 4, 5, 6, 7, 8, 9]\n"
          ]
        }
      ],
      "source": [
        "# Create a list of ints\n",
        "list_int = [0,1,2,3,4,5,6,7,8,9]\n",
        "print(list_int)"
      ]
    },
    {
      "cell_type": "code",
      "execution_count": 54,
      "metadata": {
        "id": "Ng55I2_Crt3b",
        "colab": {
          "base_uri": "https://localhost:8080/"
        },
        "outputId": "03114b17-0910-43a0-a7de-1adcff0935f4"
      },
      "outputs": [
        {
          "output_type": "stream",
          "name": "stdout",
          "text": [
            "['a', 'b', 'c']\n"
          ]
        }
      ],
      "source": [
        "# Create a list of strings\n",
        "list_str = ['a','b','c']\n",
        "print(list_str)"
      ]
    },
    {
      "cell_type": "code",
      "execution_count": 55,
      "metadata": {
        "id": "YSzCMjzdrt3b",
        "colab": {
          "base_uri": "https://localhost:8080/"
        },
        "outputId": "404536c6-ba9b-4985-f99b-4266cd8c1131"
      },
      "outputs": [
        {
          "output_type": "stream",
          "name": "stdout",
          "text": [
            "[42, 'Arthur', False]\n"
          ]
        }
      ],
      "source": [
        "# Create a mixed list\n",
        "list_mix = [42,'Arthur',False]\n",
        "print(list_mix)"
      ]
    },
    {
      "cell_type": "code",
      "execution_count": 56,
      "metadata": {
        "id": "QUhsOAFJrt3b",
        "colab": {
          "base_uri": "https://localhost:8080/"
        },
        "outputId": "02b1609a-dd53-4cd9-a9e6-2a6a2fd004ce"
      },
      "outputs": [
        {
          "output_type": "stream",
          "name": "stdout",
          "text": [
            "<class 'list'>\n"
          ]
        }
      ],
      "source": [
        "# test the type of a list\n",
        "print(type(list_mix))"
      ]
    },
    {
      "cell_type": "markdown",
      "metadata": {
        "id": "ZbdS68bDrt3b"
      },
      "source": [
        "**Access an item in a list**:"
      ]
    },
    {
      "cell_type": "code",
      "execution_count": 57,
      "metadata": {
        "id": "GJcjuk6srt3b",
        "colab": {
          "base_uri": "https://localhost:8080/"
        },
        "outputId": "5ccefb97-ba4e-4806-a18e-2bd8c1118bce"
      },
      "outputs": [
        {
          "output_type": "stream",
          "name": "stdout",
          "text": [
            "List list_mix: [42, 'Arthur', False] <class 'list'>\n",
            "First item (index 0): 42 <class 'int'>\n",
            "Second item (index 1): Arthur <class 'str'>\n",
            "Third item (index 2): False <class 'bool'>\n"
          ]
        }
      ],
      "source": [
        "# Print list and print each item in the list\n",
        "print('List list_mix:', list_mix, type(list_mix))\n",
        "print('First item (index 0):', list_mix[0], type(list_mix[0]))\n",
        "print('Second item (index 1):', list_mix[1], type(list_mix[1]))\n",
        "print('Third item (index 2):', list_mix[2], type(list_mix[2]))"
      ]
    },
    {
      "cell_type": "code",
      "execution_count": 58,
      "metadata": {
        "id": "FJsL14xXrt3b",
        "colab": {
          "base_uri": "https://localhost:8080/"
        },
        "outputId": "ad202d43-3274-43a3-e4cf-e66e46cc8766"
      },
      "outputs": [
        {
          "output_type": "stream",
          "name": "stdout",
          "text": [
            "Variable name: Arthur <class 'str'>\n"
          ]
        }
      ],
      "source": [
        "# Access item in list and store in variable\n",
        "name = list_mix[1]\n",
        "print('Variable name:', name, type(name))"
      ]
    },
    {
      "cell_type": "code",
      "execution_count": 59,
      "metadata": {
        "id": "cqPJ1CqKrt3b",
        "colab": {
          "base_uri": "https://localhost:8080/"
        },
        "outputId": "1d1fdec4-accf-4286-fc21-f1add40ade0d"
      },
      "outputs": [
        {
          "output_type": "stream",
          "name": "stdout",
          "text": [
            "List list_mix: [42, 'Arthur', False] <class 'list'>\n"
          ]
        }
      ],
      "source": [
        "# Accessing items using the index does not modify the list\n",
        "print('List list_mix:', list_mix, type(list_mix))"
      ]
    },
    {
      "cell_type": "markdown",
      "metadata": {
        "id": "BrHSLrZtrt3b"
      },
      "source": [
        "**Access multiple items in a list:**"
      ]
    },
    {
      "cell_type": "code",
      "execution_count": 60,
      "metadata": {
        "id": "o_fcZFs9rt3b"
      },
      "outputs": [],
      "source": [
        "# Re-create list of ints\n",
        "list_int = [0,1,2,3,4,5,6,7,8,9]"
      ]
    },
    {
      "cell_type": "code",
      "execution_count": null,
      "metadata": {
        "id": "RY1nR1zErt3b"
      },
      "outputs": [],
      "source": [
        "# Get all items between the item with index 0 \n",
        "# up until but not including the item with index 3\n",
        "# 0 ≤ index < 3\n",
        "print(list_int[0:3])"
      ]
    },
    {
      "cell_type": "code",
      "execution_count": null,
      "metadata": {
        "id": "tTFFwXB1rt3b"
      },
      "outputs": [],
      "source": [
        "# Index 0 is assumed if the fist number is omitted\n",
        "# So 0:3 is the same as :3\n",
        "print(list_int[:3])"
      ]
    },
    {
      "cell_type": "code",
      "execution_count": null,
      "metadata": {
        "id": "a2k1Dwvtrt3c"
      },
      "outputs": [],
      "source": [
        "# 5 ≤ index < 7\n",
        "print(list_int[5:7])"
      ]
    },
    {
      "cell_type": "code",
      "execution_count": null,
      "metadata": {
        "id": "IRKEQ8TPrt3c"
      },
      "outputs": [],
      "source": [
        "# 8 ≤ index < infinity\n",
        "# All remaining items are included if the second number is omitted\n",
        "print(list_int[8:])"
      ]
    },
    {
      "cell_type": "code",
      "execution_count": 61,
      "metadata": {
        "id": "rjA58p9_rt3c",
        "colab": {
          "base_uri": "https://localhost:8080/"
        },
        "outputId": "6ee694e4-81b8-41ec-df53-ea210b99f921"
      },
      "outputs": [
        {
          "output_type": "stream",
          "name": "stdout",
          "text": [
            "[7, 8, 9]\n"
          ]
        }
      ],
      "source": [
        "# (number of items - 3) ≤ index < infinity\n",
        "print(list_int[-3:])"
      ]
    },
    {
      "cell_type": "code",
      "execution_count": 62,
      "metadata": {
        "id": "kUv5LLyGrt3c",
        "colab": {
          "base_uri": "https://localhost:8080/"
        },
        "outputId": "682c3ac8-8f2f-4ecf-8405-39296d155156"
      },
      "outputs": [
        {
          "output_type": "stream",
          "name": "stdout",
          "text": [
            "[3, 4, 5, 6, 7]\n",
            "[3, 4, 5, 6, 7]\n"
          ]
        }
      ],
      "source": [
        "# (number of items - 7) ≤ index < (number of items - 2)\n",
        "print(list_int[-7:-2])\n",
        "# 3 ≤ index < 8\n",
        "print(list_int[3:8])"
      ]
    },
    {
      "cell_type": "markdown",
      "metadata": {
        "id": "bmwF0kf9rt3c"
      },
      "source": [
        "**Important error message: IndexError**\n",
        "    \n",
        "Whenever you see an error where it says \"index out of range\", as in `IndexError: list index out of range`, then it means that you have tried to access an item in the list, using an index that is not used in the list."
      ]
    },
    {
      "cell_type": "code",
      "execution_count": 63,
      "metadata": {
        "id": "5Ans_DPprt3c",
        "colab": {
          "base_uri": "https://localhost:8080/",
          "height": 189
        },
        "outputId": "1e7f109c-6aae-4a1b-b48d-85fa0b952db3"
      },
      "outputs": [
        {
          "output_type": "error",
          "ename": "IndexError",
          "evalue": "ignored",
          "traceback": [
            "\u001b[0;31m---------------------------------------------------------------------------\u001b[0m",
            "\u001b[0;31mIndexError\u001b[0m                                Traceback (most recent call last)",
            "\u001b[0;32m<ipython-input-63-37d9ebddd694>\u001b[0m in \u001b[0;36m<module>\u001b[0;34m\u001b[0m\n\u001b[1;32m      1\u001b[0m \u001b[0;31m# IndexError: list index out of range\u001b[0m\u001b[0;34m\u001b[0m\u001b[0;34m\u001b[0m\u001b[0;34m\u001b[0m\u001b[0m\n\u001b[0;32m----> 2\u001b[0;31m \u001b[0mprint\u001b[0m\u001b[0;34m(\u001b[0m\u001b[0mlist_int\u001b[0m\u001b[0;34m[\u001b[0m\u001b[0;36m10\u001b[0m\u001b[0;34m]\u001b[0m\u001b[0;34m)\u001b[0m\u001b[0;34m\u001b[0m\u001b[0;34m\u001b[0m\u001b[0m\n\u001b[0m",
            "\u001b[0;31mIndexError\u001b[0m: list index out of range"
          ]
        }
      ],
      "source": [
        "# IndexError: list index out of range\n",
        "print(list_int[10])"
      ]
    },
    {
      "cell_type": "markdown",
      "metadata": {
        "id": "HrKvXJjbrt3c"
      },
      "source": [
        "**Ex. 7a**"
      ]
    },
    {
      "cell_type": "code",
      "execution_count": 64,
      "metadata": {
        "id": "DPbyQ_iTrt3c"
      },
      "outputs": [],
      "source": [
        "# From the list digits, in one line of code,\n",
        "# create the variable ex7_x with the list [0,1,2,3,4]\n",
        "\n",
        "digits = [0,1,2,3,4,5,6,7,8,9] \n",
        "\n",
        "### ADD YOUR CODE HERE\n",
        "ex7_x = digits[:5]\n",
        "# === Do not modify code below ===\n",
        "assert ex7_x == [0,1,2,3,4]"
      ]
    },
    {
      "cell_type": "markdown",
      "metadata": {
        "id": "YIGDz3_mrt3c"
      },
      "source": [
        "**Ex. 7b**"
      ]
    },
    {
      "cell_type": "code",
      "execution_count": 65,
      "metadata": {
        "id": "yRBGZOMvrt3c"
      },
      "outputs": [],
      "source": [
        "# From the list digits, in one line of code,\n",
        "# create the variable ex7_y with the list [5,6,7,8]\n",
        "\n",
        "digits = [0,1,2,3,4,5,6,7,8,9] \n",
        "\n",
        "### ADD YOUR CODE HERE\n",
        "ex7_y = digits[5:9]\n",
        "# === Do not modify code below ===\n",
        "assert ex7_y == [5,6,7,8]"
      ]
    },
    {
      "cell_type": "markdown",
      "metadata": {
        "id": "u2SxOnLzrt3c"
      },
      "source": [
        "**Edit a list:**\n",
        "\n",
        "So far, every time we have modified a variable we have used a `=`. For example `x = x + 1` or `name = list_mix[1]`. \n",
        "\n",
        "Lists have some _in-place_ operator methods, meaning methods that change modify the item itself.\n",
        "\n",
        "You find a list of more list methods here: https://www.w3schools.com/python/python_ref_list.asp"
      ]
    },
    {
      "cell_type": "code",
      "execution_count": 66,
      "metadata": {
        "id": "MMdRH3Awrt3c",
        "colab": {
          "base_uri": "https://localhost:8080/"
        },
        "outputId": "0843ddb6-99d7-452c-c6cb-0a2674243530"
      },
      "outputs": [
        {
          "output_type": "stream",
          "name": "stdout",
          "text": [
            "Variable pets: ['cat', 'dog'] <class 'list'>\n",
            "Variable pets: ['cat', 'dog', 'gold fish'] <class 'list'>\n"
          ]
        }
      ],
      "source": [
        "# Create a list of strs\n",
        "pets = ['cat','dog']\n",
        "print('Variable pets:', pets, type(pets))\n",
        "\n",
        "# Add one item to the list - .append() is an in-place operator\n",
        "pets.append('gold fish')\n",
        "print('Variable pets:', pets, type(pets))\n",
        "\n",
        "# Note that we did not do: pets = pets.append('gold fish')"
      ]
    },
    {
      "cell_type": "code",
      "execution_count": 67,
      "metadata": {
        "id": "X1rOxWocrt3c",
        "colab": {
          "base_uri": "https://localhost:8080/"
        },
        "outputId": "b05bb3f5-e3d4-451a-915c-2b9251c40ee6"
      },
      "outputs": [
        {
          "output_type": "stream",
          "name": "stdout",
          "text": [
            "Variable pets: ['cat', 'dog', 'gold fish', 'butterfly'] <class 'list'>\n",
            "Variable pets_append_return: None <class 'NoneType'>\n"
          ]
        }
      ],
      "source": [
        "# Add another item to the list using in-place .append() and the \"=\" assign operator\n",
        "pets_append_return = pets.append('butterfly')\n",
        "print('Variable pets:', pets, type(pets))\n",
        "print('Variable pets_append_return:', pets_append_return, type(pets_append_return))"
      ]
    },
    {
      "cell_type": "code",
      "execution_count": 68,
      "metadata": {
        "id": "Q-Np9qtprt3c",
        "colab": {
          "base_uri": "https://localhost:8080/"
        },
        "outputId": "724e438e-1463-41dd-c972-f778edbe1b21"
      },
      "outputs": [
        {
          "output_type": "stream",
          "name": "stdout",
          "text": [
            "Print pet at index 3: butterfly <class 'str'>\n",
            "Print pet at index 3: gold fish <class 'str'>\n",
            "Variable pets: ['cat', 'dog', 'parrot', 'gold fish', 'butterfly'] <class 'list'>\n"
          ]
        }
      ],
      "source": [
        "# Re-create the list of pets\n",
        "pets = ['cat', 'dog', 'gold fish', 'butterfly']\n",
        "\n",
        "# Print item with index 3 in original list\n",
        "print('Print pet at index 3:', pets[3], type(pets[3]))\n",
        "\n",
        "# Add item at index 2\n",
        "pets.insert(2,'parrot')\n",
        "\n",
        "# Print item with index 3 again\n",
        "print('Print pet at index 3:', pets[3], type(pets[3]))\n",
        "\n",
        "#Print all pets\n",
        "print('Variable pets:', pets, type(pets))"
      ]
    },
    {
      "cell_type": "code",
      "execution_count": 69,
      "metadata": {
        "id": "RcXxsxgkrt3c",
        "colab": {
          "base_uri": "https://localhost:8080/"
        },
        "outputId": "0f0be1c6-354d-43f8-c63d-1b00e43575b1"
      },
      "outputs": [
        {
          "output_type": "stream",
          "name": "stdout",
          "text": [
            "Variable pets: ['cat', 'wolf', 'parrot', 'gold fish', 'butterfly'] <class 'list'>\n"
          ]
        }
      ],
      "source": [
        "# Modify item with index 1 \n",
        "pets[1] = 'wolf'\n",
        "print('Variable pets:', pets, type(pets))"
      ]
    },
    {
      "cell_type": "code",
      "execution_count": 70,
      "metadata": {
        "id": "GffHXEZmrt3c",
        "colab": {
          "base_uri": "https://localhost:8080/"
        },
        "outputId": "125b192d-200b-4cdb-e8bf-1cce0b57a134"
      },
      "outputs": [
        {
          "output_type": "stream",
          "name": "stdout",
          "text": [
            "Variable pet_pop: gold fish <class 'str'>\n",
            "Variable pet_remove: None <class 'NoneType'>\n",
            "Variable pets: ['wolf', 'parrot', 'butterfly'] <class 'list'>\n"
          ]
        }
      ],
      "source": [
        "# Erase item in list by index. Item returned\n",
        "pet_pop = pets.pop(3)\n",
        "# Erase item in list by value. None returned\n",
        "# First item in list removed if no item specified\n",
        "pet_remove = pets.remove(\"cat\")\n",
        "\n",
        "# Print results\n",
        "print('Variable pet_pop:', pet_pop, type(pet_pop))\n",
        "print('Variable pet_remove:', pet_remove, type(pet_remove))\n",
        "print('Variable pets:', pets, type(pets))"
      ]
    },
    {
      "cell_type": "markdown",
      "metadata": {
        "id": "gsBT1hLyrt3c"
      },
      "source": [
        "**Work with lists:**"
      ]
    },
    {
      "cell_type": "code",
      "execution_count": 71,
      "metadata": {
        "id": "VNyaGqpErt3c",
        "colab": {
          "base_uri": "https://localhost:8080/"
        },
        "outputId": "837ae9aa-8fea-4ac5-8f1b-cc8ed250dfc7"
      },
      "outputs": [
        {
          "output_type": "stream",
          "name": "stdout",
          "text": [
            "Variable all_nums: [1, 3, 5, 7, 9, 0, 2, 4, 6, 8] <class 'list'>\n",
            "Variable all_nums: [0, 1, 2, 3, 4, 5, 6, 7, 8, 9] <class 'list'>\n"
          ]
        }
      ],
      "source": [
        "# Create two lists.\n",
        "odds = [1,3,5,7,9]\n",
        "evens = [0,2,4,6,8]\n",
        "\n",
        "# Combine and sort them\n",
        "all_nums = odds + evens\n",
        "print('Variable all_nums:', all_nums, type(all_nums))\n",
        "\n",
        "# Sort the list - note that .sort() is an in-place operator\n",
        "all_nums.sort()\n",
        "print('Variable all_nums:', all_nums, type(all_nums))"
      ]
    },
    {
      "cell_type": "code",
      "execution_count": 72,
      "metadata": {
        "id": "BDe8Xv_4rt3c",
        "colab": {
          "base_uri": "https://localhost:8080/"
        },
        "outputId": "678d226f-e00d-4314-cf90-57154dbb334a"
      },
      "outputs": [
        {
          "output_type": "stream",
          "name": "stdout",
          "text": [
            "Variable nested_list: [['a', 'b', 'c'], ['d', 'e', 'f'], ['g', 'h', 'i']] <class 'list'>\n"
          ]
        }
      ],
      "source": [
        "# Create a list of lists\n",
        "l1 = ['a','b','c']\n",
        "l2 = ['d','e','f']\n",
        "l3 = ['g','h','i']\n",
        "\n",
        "# Create the list of list\n",
        "nested_list = [l1,l2,l3]\n",
        "print('Variable nested_list:', nested_list, type(nested_list))"
      ]
    },
    {
      "cell_type": "code",
      "execution_count": 73,
      "metadata": {
        "id": "ukvbR6NErt3d",
        "colab": {
          "base_uri": "https://localhost:8080/"
        },
        "outputId": "17d06e6a-e529-430e-c031-c5803f4aef94"
      },
      "outputs": [
        {
          "output_type": "stream",
          "name": "stdout",
          "text": [
            "Variable f: g <class 'str'>\n",
            "Variable nested_f: g <class 'str'>\n"
          ]
        }
      ],
      "source": [
        "# Access item in nested lists \"f\"\n",
        "f = nested_list[2][0]\n",
        "print('Variable f:', f, type(f))\n",
        "\n",
        "# Access item in nested lists \"f\"\n",
        "nested_lvl1 = nested_list[2]\n",
        "nested_f    = nested_lvl1[0]\n",
        "print('Variable nested_f:', nested_f, type(nested_f))"
      ]
    },
    {
      "cell_type": "code",
      "execution_count": 74,
      "metadata": {
        "id": "7MMpbUOKrt3d",
        "colab": {
          "base_uri": "https://localhost:8080/"
        },
        "outputId": "d7567b17-f726-4da5-b533-0b7ebd9379e5"
      },
      "outputs": [
        {
          "output_type": "stream",
          "name": "stdout",
          "text": [
            "Variable sample_means: [23.45, 45.1, 28.62] <class 'list'>\n"
          ]
        }
      ],
      "source": [
        "# Start with an empty list\n",
        "sample_means = []\n",
        "\n",
        "# Add items to the list\n",
        "sample_means.append(23.45)\n",
        "sample_means.append(45.1)\n",
        "sample_means.append(28.62)\n",
        "\n",
        "print('Variable sample_means:', sample_means, type(sample_means))"
      ]
    },
    {
      "cell_type": "code",
      "execution_count": 75,
      "metadata": {
        "id": "G5oEL5Dnrt3d",
        "colab": {
          "base_uri": "https://localhost:8080/"
        },
        "outputId": "bbbff057-57ae-4077-9373-bf6044d25f4a"
      },
      "outputs": [
        {
          "output_type": "stream",
          "name": "stdout",
          "text": [
            "Variable list_a: ['a'] <class 'list'>\n",
            "Variable list_a5: ['a', 'a', 'a', 'a', 'a'] <class 'list'>\n",
            "Variable list_abc3: ['a', 'b', 'c', 'a', 'b', 'c', 'a', 'b', 'c'] <class 'list'>\n"
          ]
        }
      ],
      "source": [
        "# Create a list by repeating another list\n",
        "list_a = ['a'] \n",
        "list_a5 = list_a * 5\n",
        "list_abc3 = ['a','b','c'] * 3\n",
        "\n",
        "print('Variable list_a:', list_a, type(list_a))\n",
        "print('Variable list_a5:', list_a5, type(list_a5))\n",
        "print('Variable list_abc3:', list_abc3, type(list_abc3))"
      ]
    },
    {
      "cell_type": "markdown",
      "metadata": {
        "id": "OqNTht40rt3d"
      },
      "source": [
        "**Get info about a list:**"
      ]
    },
    {
      "cell_type": "markdown",
      "metadata": {
        "id": "aJN7i25wrt3d"
      },
      "source": [
        "We can use the same function `len()` we used for strings"
      ]
    },
    {
      "cell_type": "code",
      "execution_count": null,
      "metadata": {
        "id": "EhqCNtoNrt3d"
      },
      "outputs": [],
      "source": [
        "print('Number of items in list_a:', len(list_a))\n",
        "print('Number of items in list_a5:', len(list_a5))"
      ]
    },
    {
      "cell_type": "code",
      "execution_count": 76,
      "metadata": {
        "id": "FMSP8t5ort3d",
        "colab": {
          "base_uri": "https://localhost:8080/"
        },
        "outputId": "c39085ca-af62-43ca-c7c4-ce023e896af3"
      },
      "outputs": [
        {
          "output_type": "stream",
          "name": "stdout",
          "text": [
            "Number of items in list_abc3: 9 <class 'int'>\n"
          ]
        }
      ],
      "source": [
        "# We can store the length of a list in a variable if needed\n",
        "len_list_abc3 = len(list_abc3)\n",
        "print('Number of items in list_abc3:', len_list_abc3, type(len_list_abc3))"
      ]
    },
    {
      "cell_type": "markdown",
      "metadata": {
        "id": "2r3SN04Jrt3d"
      },
      "source": [
        "Test if an item is or isn't in a list"
      ]
    },
    {
      "cell_type": "code",
      "execution_count": 77,
      "metadata": {
        "id": "m3o_vsB4rt3d",
        "colab": {
          "base_uri": "https://localhost:8080/"
        },
        "outputId": "6da51be0-02ba-4137-a15a-39cd88c63f92"
      },
      "outputs": [
        {
          "output_type": "stream",
          "name": "stdout",
          "text": [
            "Variable list_abc: ['a', 'b', 'c'] <class 'list'>\n",
            "Variable a_in_list_abc: True <class 'bool'>\n",
            "Variable d_not_in_list_abc: True <class 'bool'>\n"
          ]
        }
      ],
      "source": [
        "list_abc = ['a','b','c']\n",
        "\n",
        "a_in_list_abc = 'a' in list_abc\n",
        "d_not_in_list_abc = 'd' not in list_abc\n",
        "\n",
        "print('Variable list_abc:', list_abc, type(list_abc))\n",
        "print('Variable a_in_list_abc:', a_in_list_abc, type(a_in_list_abc))\n",
        "print('Variable d_not_in_list_abc:', d_not_in_list_abc, type(d_not_in_list_abc))"
      ]
    },
    {
      "cell_type": "markdown",
      "metadata": {
        "id": "iRcHfNPlrt3d"
      },
      "source": [
        "**Ex. 8a**"
      ]
    },
    {
      "cell_type": "code",
      "execution_count": 78,
      "metadata": {
        "id": "l8-3RNmBrt3d"
      },
      "outputs": [],
      "source": [
        "# From the list digits, in one line of code,\n",
        "# create the variable ex8_x with the int 6\n",
        "\n",
        "digits = [[0,1,2],[3,4,5],6,[7,8,9]]\n",
        "\n",
        "### ADD YOUR CODE HERE\n",
        "ex8_x = digits[2]\n",
        "# === Do not modify code below ===\n",
        "assert ex8_x == 6"
      ]
    },
    {
      "cell_type": "markdown",
      "metadata": {
        "id": "O0LDustxrt3d"
      },
      "source": [
        "**Ex. 8b**"
      ]
    },
    {
      "cell_type": "code",
      "execution_count": 79,
      "metadata": {
        "id": "PuSDB65rrt3d"
      },
      "outputs": [],
      "source": [
        "# From the list digits, in one line of code,\n",
        "# create the variable ex8_y with the int 4 \n",
        "\n",
        "digits = [[0,1,2],[3,4,5],6,[7,8,9]]\n",
        "\n",
        "### ADD YOUR CODE HERE\n",
        "ex8_y = digits[1][1]\n",
        "# === Do not modify code below ===\n",
        "assert ex8_y == 4"
      ]
    },
    {
      "cell_type": "markdown",
      "metadata": {
        "id": "1ylL5S_-rt3e"
      },
      "source": [
        "**Ex. 8c**"
      ]
    },
    {
      "cell_type": "code",
      "execution_count": 82,
      "metadata": {
        "id": "a8JwViBrrt3e",
        "colab": {
          "base_uri": "https://localhost:8080/"
        },
        "outputId": "64833d84-63f1-42e7-8133-384ed2917153"
      },
      "outputs": [
        {
          "output_type": "stream",
          "name": "stdout",
          "text": [
            "[1, 2, 3, 4]\n"
          ]
        }
      ],
      "source": [
        "# Using only the lists in the variables a, b and c and list methods\n",
        "# create a list [1,2,3,4] and store it in the variable ex8_z. \n",
        "# You may not define any new ints or lists\n",
        "\n",
        "a = 4\n",
        "b = [2,3]\n",
        "c = [1]\n",
        "\n",
        "### ADD YOUR CODE HERE\n",
        "ex8_z =  c + b\n",
        "ex8_z.append(a)\n",
        "print(ex8_z)\n",
        "# === Do not modify code below ===\n",
        "assert ex8_z == [1,2,3,4]"
      ]
    },
    {
      "cell_type": "markdown",
      "metadata": {
        "id": "0qj2FzrWrt3e"
      },
      "source": [
        "**Ex. 8d**"
      ]
    },
    {
      "cell_type": "code",
      "execution_count": 83,
      "metadata": {
        "id": "Dm1Wgcptrt3e"
      },
      "outputs": [],
      "source": [
        "# Using only the lists in the variables a, b and c and list methods\n",
        "# create a list [1,2,3] and store it in the variable ex8_k.\n",
        "# You may not define any new ints or lists\n",
        "\n",
        "a = 2\n",
        "b = [1,4,3]\n",
        "c = 1\n",
        "\n",
        "### ADD YOUR CODE HERE\n",
        "ex8_k = b \n",
        "ex8_k.pop(1)\n",
        "ex8_k.insert(1,a)\n",
        "# === Do not modify code below ===\n",
        "assert ex8_k == [1,2,3]"
      ]
    },
    {
      "cell_type": "markdown",
      "metadata": {
        "id": "MhrRuaBWrt3e"
      },
      "source": [
        "**Ex. 8e**"
      ]
    },
    {
      "cell_type": "code",
      "execution_count": 84,
      "metadata": {
        "id": "RWy4ma3mrt3e"
      },
      "outputs": [],
      "source": [
        "# Using only the lists in the variables a, b and c and list methods\n",
        "# create a list [1,2,3] and store it in the variable ex8_i.\n",
        "# You may not define any new ints or lists\n",
        "\n",
        "a = 3\n",
        "b = [1,4,2]\n",
        "c = 1\n",
        "\n",
        "### ADD YOUR CODE HERE\n",
        "ex8_i = b \n",
        "ex8_i.pop(1)\n",
        "ex8_i.insert(2,a)\n",
        "# === Do not modify code below ===\n",
        "assert ex8_i == [1,2,3]"
      ]
    },
    {
      "cell_type": "markdown",
      "metadata": {
        "id": "ClhdECnJrt3e"
      },
      "source": [
        "## S5.2 Container types - Dictionaries\n",
        "\n",
        "| Class name | Full name  | Access                      | Occurrence  | Remarks |\n",
        "|:---        |:---        | :---                        | :---        | :---\n",
        "| dict       | Dictionary | Access items by key         | Common      | Since we access items by key names, the order is not important |\n",
        "\n",
        "Each item in a dictionary consists of two things. The item itself and a key used to refer to it. \n",
        "\n",
        "The item can be of any type (anything from atoms to advanced molecules) but the key is always a string.\n",
        "\n",
        "---\n",
        "\n",
        "**Create dictionaries and access items:**"
      ]
    },
    {
      "cell_type": "code",
      "execution_count": null,
      "metadata": {
        "id": "nMMO8AsOrt3f"
      },
      "outputs": [],
      "source": [
        "# Create a dictionary\n",
        "x = {'a':'alpha','b':3,'c':True,'d':[1,2,3]}\n",
        "print('Variable x:', x, type(x))"
      ]
    },
    {
      "cell_type": "code",
      "execution_count": null,
      "metadata": {
        "id": "74-anTaIrt3f"
      },
      "outputs": [],
      "source": [
        "# Access item in a dict using the key\n",
        "print(\"Variable x['a']:\", x['a'], type(x['a']))\n",
        "print(\"Variable x['b']:\", x['b'], type(x['b']))\n",
        "print(\"Variable x['c']:\", x['c'], type(x['c']))\n",
        "print(\"Variable x['d']:\", x['d'], type(x['d']))"
      ]
    },
    {
      "cell_type": "code",
      "execution_count": 85,
      "metadata": {
        "id": "A69FAGvSrt3f",
        "colab": {
          "base_uri": "https://localhost:8080/"
        },
        "outputId": "93ee1b36-6a82-4c27-b0f4-92307334d00b"
      },
      "outputs": [
        {
          "output_type": "stream",
          "name": "stdout",
          "text": [
            "Variable accounta: {'owner': 'Jerry Ehman', 'id': '6EQUJ5'} <class 'dict'>\n",
            "Variable accountb: {'id': 'GTCTAT', 'owner': 'Rosalind Franklin'} <class 'dict'>\n"
          ]
        }
      ],
      "source": [
        "# Lets say we are a bank keeping track of info about accounts\n",
        "\n",
        "# Start with an empty dict\n",
        "accounta = {}\n",
        "accountb = {}\n",
        "\n",
        "# Set up account A details\n",
        "accounta['owner'] = 'Jerry Ehman'\n",
        "accounta['id'] = '6EQUJ5'\n",
        "\n",
        "# Set up account B details in different order\n",
        "accountb['id'] = 'GTCTAT'\n",
        "accountb['owner'] = 'Rosalind Franklin'\n",
        "\n",
        "print('Variable accounta:', accounta, type(accounta))\n",
        "print('Variable accountb:', accountb, type(accountb))"
      ]
    },
    {
      "cell_type": "code",
      "execution_count": 86,
      "metadata": {
        "id": "iReXoF7Krt3f",
        "colab": {
          "base_uri": "https://localhost:8080/"
        },
        "outputId": "d9eae92f-6718-466a-ad51-1d242eabac72"
      },
      "outputs": [
        {
          "output_type": "stream",
          "name": "stdout",
          "text": [
            "Owner account A: Jerry Ehman <class 'str'>\n",
            "Owner account B: Rosalind Franklin <class 'str'>\n"
          ]
        }
      ],
      "source": [
        "# The same value can be accessed with the same key regardless of the order the values were added\n",
        "print('Owner account A:', accounta['owner'], type(accounta['owner']))\n",
        "print('Owner account B:', accountb['owner'], type(accountb['owner']))"
      ]
    },
    {
      "cell_type": "code",
      "execution_count": 87,
      "metadata": {
        "id": "U2f9_J19rt3f",
        "colab": {
          "base_uri": "https://localhost:8080/"
        },
        "outputId": "88cd8e6e-1c25-4fea-9d22-44c5ce5dde45"
      },
      "outputs": [
        {
          "output_type": "stream",
          "name": "stdout",
          "text": [
            "Balance account A: 1420 <class 'int'>\n"
          ]
        }
      ],
      "source": [
        "# Deposit initial amount on account A\n",
        "accounta['balance'] = 1420\n",
        "print('Balance account A:', accounta['balance'], type(accounta['balance']))"
      ]
    },
    {
      "cell_type": "markdown",
      "metadata": {
        "id": "d8lMNiwFrt3f"
      },
      "source": [
        "**Important error message: KeyError**\n",
        "    \n",
        "Whenever you see an error on the format\n",
        "`KeyError: 'balance'`, \n",
        "then it means that you have tried to access an item in the list, using a key that is not used in the dictionary."
      ]
    },
    {
      "cell_type": "code",
      "execution_count": 88,
      "metadata": {
        "id": "39aCbdhjrt3f",
        "colab": {
          "base_uri": "https://localhost:8080/",
          "height": 171
        },
        "outputId": "9da4e5eb-9e6a-448d-85f6-8fc6088002e1"
      },
      "outputs": [
        {
          "output_type": "error",
          "ename": "KeyError",
          "evalue": "ignored",
          "traceback": [
            "\u001b[0;31m---------------------------------------------------------------------------\u001b[0m",
            "\u001b[0;31mKeyError\u001b[0m                                  Traceback (most recent call last)",
            "\u001b[0;32m<ipython-input-88-d2fa90f5023c>\u001b[0m in \u001b[0;36m<module>\u001b[0;34m\u001b[0m\n\u001b[0;32m----> 1\u001b[0;31m \u001b[0mprint\u001b[0m\u001b[0;34m(\u001b[0m\u001b[0;34m'Balance account B:'\u001b[0m\u001b[0;34m,\u001b[0m \u001b[0maccountb\u001b[0m\u001b[0;34m[\u001b[0m\u001b[0;34m'balance'\u001b[0m\u001b[0;34m]\u001b[0m\u001b[0;34m,\u001b[0m \u001b[0mtype\u001b[0m\u001b[0;34m(\u001b[0m\u001b[0maccountb\u001b[0m\u001b[0;34m[\u001b[0m\u001b[0;34m'balance'\u001b[0m\u001b[0;34m]\u001b[0m\u001b[0;34m)\u001b[0m\u001b[0;34m)\u001b[0m\u001b[0;34m\u001b[0m\u001b[0;34m\u001b[0m\u001b[0m\n\u001b[0m",
            "\u001b[0;31mKeyError\u001b[0m: 'balance'"
          ]
        }
      ],
      "source": [
        "print('Balance account B:', accountb['balance'], type(accountb['balance']))"
      ]
    },
    {
      "cell_type": "code",
      "execution_count": 89,
      "metadata": {
        "id": "xlyHLT87rt3f",
        "colab": {
          "base_uri": "https://localhost:8080/"
        },
        "outputId": "96f563dd-a493-472a-a32e-026b1a4012b6"
      },
      "outputs": [
        {
          "output_type": "stream",
          "name": "stdout",
          "text": [
            "Balance account A: 1420\n",
            "Balance account B: 0\n"
          ]
        }
      ],
      "source": [
        "# When applicable, use get() method to set a default value if key does not exist\n",
        "print('Balance account A:', accounta.get('balance',0))\n",
        "print('Balance account B:', accountb.get('balance',0))"
      ]
    },
    {
      "cell_type": "code",
      "execution_count": 90,
      "metadata": {
        "id": "b_ALum82rt3f",
        "colab": {
          "base_uri": "https://localhost:8080/"
        },
        "outputId": "4f7069ed-aad0-4b0a-e78d-7f053de42f88"
      },
      "outputs": [
        {
          "output_type": "stream",
          "name": "stdout",
          "text": [
            "Balance account B: None <class 'NoneType'>\n"
          ]
        }
      ],
      "source": [
        "# When using .get() on a key that does not exist without default value\n",
        "print('Balance account B:', accountb.get('color'), type(accountb.get('color')))"
      ]
    },
    {
      "cell_type": "markdown",
      "metadata": {
        "id": "fGZWI5G3rt3f"
      },
      "source": [
        "**Ex. 9a**"
      ]
    },
    {
      "cell_type": "code",
      "execution_count": 91,
      "metadata": {
        "id": "RSDKnoyWrt3f"
      },
      "outputs": [],
      "source": [
        "# Using only the already defined variables,\n",
        "# (you may not type any keys manually)\n",
        "# modify the empty dict ex8_z into\n",
        "# {'pet1':'Dog','pet2':'Cat'}\n",
        "# You may not overwrite ex8_z\n",
        "\n",
        "p1 = 'pet1'\n",
        "p2 = 'pet2'\n",
        "Arthur = 'Cat'\n",
        "b = \"Dog\"\n",
        "c = Arthur\n",
        "ex8_z = {}\n",
        "\n",
        "### ADD YOUR CODE HERE\n",
        "ex8_z[p1] = b\n",
        "ex8_z[p2] = Arthur\n",
        "# === Do not modify code below ===\n",
        "assert ex8_z == {'pet1':'Dog','pet2':'Cat'}"
      ]
    },
    {
      "cell_type": "markdown",
      "metadata": {
        "id": "hfOEFvnvrt3f"
      },
      "source": [
        "**Ex. 9b**"
      ]
    },
    {
      "cell_type": "code",
      "execution_count": 102,
      "metadata": {
        "id": "NpVMiYlCrt3f",
        "colab": {
          "base_uri": "https://localhost:8080/"
        },
        "outputId": "e0fe9d0e-ce42-44c4-dc4a-7d97a0c0bb19"
      },
      "outputs": [
        {
          "output_type": "stream",
          "name": "stdout",
          "text": [
            "0\n",
            "d\n",
            "-3\n",
            "['%', '?', '~']\n"
          ]
        }
      ],
      "source": [
        "# Using only the complex_dict and \n",
        "# accessing items using only keys and indexes,\n",
        "# create the following variables zero as the int 0,\n",
        "# d as the string d, minus_three as the int -3\n",
        "# and symbol_list as the list ['%','?','~']\n",
        "# Try create each of these variables in a single line of code\n",
        "\n",
        "\n",
        "complex_dict = {\n",
        "    'alpha': [\n",
        "        'a','b','c','d'\n",
        "    ],\n",
        "    'numbers': [\n",
        "        [1,2,3],\n",
        "        0,\n",
        "        [-1,-2,-3]\n",
        "    ],\n",
        "    'symbols' : {\n",
        "        'percent' : '%',\n",
        "        'question' : '?',\n",
        "        'tilde' : '~'\n",
        "    }\n",
        "}\n",
        "\n",
        "zero = complex_dict['numbers'][1]  ### ADD YOUR CODE HERE\n",
        "print(zero)\n",
        "d = complex_dict['alpha'][3] ### ADD YOUR CODE HERE\n",
        "print(d)\n",
        "minus_three = complex_dict['numbers'][2][2] ### ADD YOUR CODE HERE\n",
        "print(minus_three)\n",
        "symbol_list = [complex_dict['symbols']['percent'],complex_dict['symbols']['question'],complex_dict['symbols']['tilde']] ### ADD YOUR CODE HERE\n",
        "print(symbol_list)\n",
        "\n",
        "# === Do not modify code below ===\n",
        "assert zero==0 and d=='d' and minus_three==-3 and symbol_list==['%','?','~']"
      ]
    },
    {
      "cell_type": "markdown",
      "metadata": {
        "id": "p1ARhnYmrt3f"
      },
      "source": [
        "## S5.3 Container types - Tuples\n",
        "\n",
        "| Class name | Full name | Access                | Occurrence  | Remarks |\n",
        "|:---        |:---       | :---                  | :---        | :---\n",
        "| tuple      | Tuple     | Access items by order | Less common | Very similar to a list, but when created it cannot be modified |\n",
        "\n",
        "At a first glance tuples are very similar to lists. Items in tuples are also accessed using indexes.\n",
        "\n",
        "The main difference is that tuples are immutable, which means you cannot edit them once they are created.\n",
        "\n",
        "In data work we usually want to be able to edit our data, so you will not create them often. But it is common that methods and functions return tuples.\n",
        "\n",
        "--- \n",
        "\n",
        "**Create a tuple:**"
      ]
    },
    {
      "cell_type": "code",
      "execution_count": 94,
      "metadata": {
        "id": "JLCs1rqZrt3g",
        "colab": {
          "base_uri": "https://localhost:8080/"
        },
        "outputId": "17b9cf44-8a08-4b80-968a-dc7ca0a371bf"
      },
      "outputs": [
        {
          "output_type": "stream",
          "name": "stdout",
          "text": [
            "list_mix: [42, 'Arthur', False] <class 'list'>\n",
            "tuple_mix: (42, 'Arthur', False) <class 'tuple'>\n"
          ]
        }
      ],
      "source": [
        "list_mix  = [42,'Arthur',False]\n",
        "tuple_mix = (42,'Arthur',False)\n",
        "\n",
        "print('list_mix:', list_mix, type(list_mix))\n",
        "print('tuple_mix:', tuple_mix, type(tuple_mix))"
      ]
    },
    {
      "cell_type": "markdown",
      "metadata": {
        "id": "f4xjNoyart3g"
      },
      "source": [
        "**Access item in a tuple:**"
      ]
    },
    {
      "cell_type": "code",
      "execution_count": 95,
      "metadata": {
        "id": "0oeqrHoXrt3g",
        "colab": {
          "base_uri": "https://localhost:8080/"
        },
        "outputId": "d13064fc-d12e-419b-d93d-90e8a5a2ed18"
      },
      "outputs": [
        {
          "output_type": "stream",
          "name": "stdout",
          "text": [
            "list_mix item index 0: 42 <class 'int'>\n",
            "tuple_mix item index 0: 42 <class 'int'>\n"
          ]
        }
      ],
      "source": [
        "# Items are accessed the same way as a list\n",
        "print('list_mix item index 0:', list_mix[0], type(list_mix[0]))\n",
        "print('tuple_mix item index 0:', tuple_mix[0], type(tuple_mix[0]))"
      ]
    },
    {
      "cell_type": "markdown",
      "metadata": {
        "id": "24Mgv2Cmrt3g"
      },
      "source": [
        "**Modify item in a tuple:**"
      ]
    },
    {
      "cell_type": "code",
      "execution_count": 96,
      "metadata": {
        "id": "6Uxq0TrBrt3g",
        "colab": {
          "base_uri": "https://localhost:8080/"
        },
        "outputId": "aded6a32-b346-4fad-d707-baacaaf73323"
      },
      "outputs": [
        {
          "output_type": "stream",
          "name": "stdout",
          "text": [
            "list_mix: [42, 'Marvin', False] <class 'list'>\n"
          ]
        }
      ],
      "source": [
        "# First modify item in list\n",
        "list_mix[1] = 'Marvin' \n",
        "print('list_mix:', list_mix, type(list_mix))\n"
      ]
    },
    {
      "cell_type": "markdown",
      "metadata": {
        "id": "QfWCOJbwrt3g"
      },
      "source": [
        "**Important error message: TypeError**\n",
        "    \n",
        "Whenever you see an error that says \"does not support\" as in \n",
        "`TypeError: 'tuple' object does not support item assignment`, \n",
        "then it means that you have tried to do an action on a type for which that action is not allowed.\n",
        "In this example modify an item in a tuple."
      ]
    },
    {
      "cell_type": "code",
      "execution_count": 97,
      "metadata": {
        "id": "I6yMLFLIrt3g",
        "colab": {
          "base_uri": "https://localhost:8080/",
          "height": 189
        },
        "outputId": "c25e20ec-3fa1-4e5f-8eac-bb6d82f6e10c"
      },
      "outputs": [
        {
          "output_type": "error",
          "ename": "TypeError",
          "evalue": "ignored",
          "traceback": [
            "\u001b[0;31m---------------------------------------------------------------------------\u001b[0m",
            "\u001b[0;31mTypeError\u001b[0m                                 Traceback (most recent call last)",
            "\u001b[0;32m<ipython-input-97-7d02ad828c5f>\u001b[0m in \u001b[0;36m<module>\u001b[0;34m\u001b[0m\n\u001b[1;32m      1\u001b[0m \u001b[0;31m# However we cannot do the same in\u001b[0m\u001b[0;34m\u001b[0m\u001b[0;34m\u001b[0m\u001b[0;34m\u001b[0m\u001b[0m\n\u001b[0;32m----> 2\u001b[0;31m \u001b[0mtuple_mix\u001b[0m\u001b[0;34m[\u001b[0m\u001b[0;36m1\u001b[0m\u001b[0;34m]\u001b[0m \u001b[0;34m=\u001b[0m \u001b[0;34m'Marvin'\u001b[0m\u001b[0;34m\u001b[0m\u001b[0;34m\u001b[0m\u001b[0m\n\u001b[0m",
            "\u001b[0;31mTypeError\u001b[0m: 'tuple' object does not support item assignment"
          ]
        }
      ],
      "source": [
        "# However we cannot do the same in \n",
        "tuple_mix[1] = 'Marvin'"
      ]
    },
    {
      "cell_type": "code",
      "execution_count": 98,
      "metadata": {
        "id": "aZg6k027rt3g",
        "colab": {
          "base_uri": "https://localhost:8080/"
        },
        "outputId": "540ee82a-7f55-472d-fafc-fe6f575deb14"
      },
      "outputs": [
        {
          "output_type": "stream",
          "name": "stdout",
          "text": [
            "Variable name: Arthur <class 'str'>\n",
            "Variable name upper: ARTHUR <class 'str'>\n"
          ]
        }
      ],
      "source": [
        "# Use tuples to get information and store them in variables\n",
        "name = tuple_mix[1]\n",
        "print('Variable name:', name, type(name))\n",
        "\n",
        "# Items copied from a tuple no longer need to be immutable\n",
        "name = name.upper()\n",
        "print('Variable name upper:', name, type(name))"
      ]
    },
    {
      "cell_type": "code",
      "execution_count": 99,
      "metadata": {
        "id": "lSl0ri8Urt3g",
        "colab": {
          "base_uri": "https://localhost:8080/"
        },
        "outputId": "c3e5d979-988d-4f64-d6be-2027020c5334"
      },
      "outputs": [
        {
          "output_type": "stream",
          "name": "stdout",
          "text": [
            "Variable list_from_tuple: [42, 'Marvin', False] <class 'list'>\n"
          ]
        }
      ],
      "source": [
        "# If we type cast a tuple to a list it behaves as a list\n",
        "list_from_tuple = list(tuple_mix)\n",
        "list_from_tuple[1] = 'Marvin'\n",
        "print('Variable list_from_tuple:', list_from_tuple, type(list_from_tuple))"
      ]
    },
    {
      "cell_type": "code",
      "execution_count": 100,
      "metadata": {
        "id": "CZVWLsVxrt3g",
        "colab": {
          "base_uri": "https://localhost:8080/"
        },
        "outputId": "d5c79168-70cd-4a0b-8cba-59c2f4c94e4b"
      },
      "outputs": [
        {
          "output_type": "stream",
          "name": "stdout",
          "text": [
            "Variable tuple_from_list: (42, 'Marvin', False) <class 'tuple'>\n"
          ]
        }
      ],
      "source": [
        "# While items in a tuple are immutable, the tuple can be overwritten\n",
        "tuple_from_list = tuple(list_from_tuple)\n",
        "print('Variable tuple_from_list:', tuple_from_list, type(tuple_from_list))"
      ]
    },
    {
      "cell_type": "markdown",
      "metadata": {
        "id": "3110TRXFrt3g"
      },
      "source": [
        "## S5.4 Container types - Sets\n",
        "\n",
        "| Class name | Full name  | Access                      | Occurrence  | Remarks |\n",
        "|:---        |:---        | :---                        | :---        | :---\n",
        "| set        | Set        | Test if item already in set | Rare        | A container that cannot hold duplicates |\n",
        "\n",
        "Rare but included it for completion. It's a container that cannot have duplicates. \n",
        "\n",
        "---\n",
        "\n",
        "**Demonstrate a set:**"
      ]
    },
    {
      "cell_type": "code",
      "execution_count": null,
      "metadata": {
        "id": "zvqwmgAprt3g"
      },
      "outputs": [],
      "source": [
        "# Create a set that stores all skills in a team:\n",
        "team_skills = set()\n",
        "print('Variable team_skills:', team_skills, type(team_skills))"
      ]
    },
    {
      "cell_type": "code",
      "execution_count": null,
      "metadata": {
        "id": "UGFuMZ0xrt3g"
      },
      "outputs": [],
      "source": [
        "# Define skillsets for person A, B and C\n",
        "personA_skill1 = 'python'\n",
        "personB_skill1 = 'field-work'\n",
        "personC_skill1 = 'python'\n",
        "personC_skill2 = 'Excel'\n",
        "\n",
        "# Add skillsets for person A, B and C\n",
        "team_skills.add(personA_skill1)\n",
        "team_skills.add(personB_skill1)\n",
        "team_skills.add(personC_skill1)\n",
        "team_skills.add(personC_skill2)\n",
        "print('Variable team_skills:', team_skills, type(team_skills))"
      ]
    },
    {
      "cell_type": "code",
      "execution_count": null,
      "metadata": {
        "id": "SlWB6OHKrt3g"
      },
      "outputs": [],
      "source": [
        "# Add a list of person D's skills to the set\n",
        "personD_skills = ['python','field-work','management','accounting']\n",
        "team_skills.update(personD_skills)\n",
        "print('Variable team_skills:', team_skills, type(team_skills))"
      ]
    },
    {
      "cell_type": "code",
      "execution_count": null,
      "metadata": {
        "id": "9dKVUjTnrt3g"
      },
      "outputs": [],
      "source": [
        "# Test if the team has a skillset\n",
        "print('python' in team_skills)\n",
        "print('R' in team_skills)"
      ]
    },
    {
      "cell_type": "markdown",
      "metadata": {
        "id": "vdxFRtpYrt3g"
      },
      "source": [
        "## S5.5 Basic container types summary\n",
        "\n",
        "* This is how we combine basic data types (atoms)\n",
        "* Stored in a variable with a name and type (just like data types and any other variable)\n",
        "* How you access items is the main difference between the two most common containers; `list` and `dict`\n",
        "* Containers are often nested (a container in a container)\n",
        "* The types in a container can be mixed\n",
        "\n",
        "**Important errors**\n",
        "\n",
        "| Error name     | Likely reason for the error | \n",
        "|:---            |:---                         |\n",
        "| **IndexError** | You are trying to access an item in a list using an index outside the range of indexes for that list | \n",
        "| **KeyError**   | You are trying to access an item in a list using a key name that does not exist in the dict | \n",
        "| **TypeError**  | Very generic error where you have used an operation (math operation, index assignment etc.) that is a recognixed operation but not allowed for this variable's type | "
      ]
    },
    {
      "cell_type": "markdown",
      "metadata": {
        "id": "c_WjMvPZrt3g"
      },
      "source": [
        "**Optional Ex. 10a**"
      ]
    },
    {
      "cell_type": "code",
      "execution_count": null,
      "metadata": {
        "id": "JfPupcxkrt3g"
      },
      "outputs": [],
      "source": [
        "# Generate a tuple with the three letters m, n and p\n",
        "# in alphabetic order. Call the tuple letters.\n",
        "# then access the letter m\n",
        "# and store as a string in the variable M\n",
        "\n",
        "letters = ### ADD YOUR CODE HERE\n",
        "M = ### ADD YOUR CODE HERE\n",
        "\n",
        "# === Do not modify code below ===\n",
        "assert type(letters) is tuple and M=='m'"
      ]
    }
  ],
  "metadata": {
    "kernelspec": {
      "display_name": "Python 3",
      "language": "python",
      "name": "python3"
    },
    "language_info": {
      "codemirror_mode": {
        "name": "ipython",
        "version": 3
      },
      "file_extension": ".py",
      "mimetype": "text/x-python",
      "name": "python",
      "nbconvert_exporter": "python",
      "pygments_lexer": "ipython3",
      "version": "3.8.2"
    },
    "colab": {
      "provenance": [],
      "include_colab_link": true
    }
  },
  "nbformat": 4,
  "nbformat_minor": 0
}